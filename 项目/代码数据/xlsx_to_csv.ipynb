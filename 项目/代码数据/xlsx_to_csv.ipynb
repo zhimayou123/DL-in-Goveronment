{
 "cells": [
  {
   "cell_type": "code",
   "execution_count": 1,
   "id": "8ebdbe55-714c-4c70-9fd2-a9d4c02963ec",
   "metadata": {},
   "outputs": [],
   "source": [
    "import pandas as pd\n",
    "df1 = pd.read_excel('shuju1.xlsx')\n",
    "df2 = pd.read_excel('shuju2.xlsx')\n",
    "df3 = pd.read_excel('shuju3.xlsx')\n",
    "df4 = pd.read_excel('shuju4.xlsx')"
   ]
  },
  {
   "cell_type": "code",
   "execution_count": 2,
   "id": "e53399f7-96c8-4b4e-94f9-6974f53776e9",
   "metadata": {},
   "outputs": [],
   "source": [
    "# 删除换行符和制表符\n",
    "df1.replace({'\\n': '', '\\t': '','\\xa0': '', '\\u3000': '', '\\*': '','\\ ': ''}, regex=True, inplace=True)\n",
    "df2.replace({'\\n': '', '\\t': '','\\xa0': '', '\\u3000': '', '\\*': '','\\ ': ''}, regex=True, inplace=True)\n",
    "df3.replace({'\\n': '', '\\t': '','\\xa0': '', '\\u3000': '', '\\*': '','\\ ': ''}, regex=True, inplace=True)\n",
    "df4.replace({'\\n': '', '\\t': '','\\xa0': '', '\\u3000': '', '\\*': '','\\ ': ''}, regex=True, inplace=True)\n",
    "# 将处理后的数据写回 CSV 文件\n",
    "df1.to_csv('shuju1.csv', index=False)\n",
    "df2.to_csv('shuju2.csv', index=False)\n",
    "df3.to_csv('shuju3.csv', index=False)\n",
    "df4.to_csv('shuju4.csv', index=False)"
   ]
  },
  {
   "cell_type": "code",
   "execution_count": 3,
   "id": "6e4dceac-b8fd-4393-9608-1f22724151b4",
   "metadata": {},
   "outputs": [],
   "source": [
    "df = pd.read_csv('shuju2.csv')"
   ]
  },
  {
   "cell_type": "code",
   "execution_count": 4,
   "id": "a48f13aa-53cc-49fe-b8c8-40499d76e37b",
   "metadata": {},
   "outputs": [
    {
     "data": {
      "text/html": [
       "<div>\n",
       "<style scoped>\n",
       "    .dataframe tbody tr th:only-of-type {\n",
       "        vertical-align: middle;\n",
       "    }\n",
       "\n",
       "    .dataframe tbody tr th {\n",
       "        vertical-align: top;\n",
       "    }\n",
       "\n",
       "    .dataframe thead th {\n",
       "        text-align: right;\n",
       "    }\n",
       "</style>\n",
       "<table border=\"1\" class=\"dataframe\">\n",
       "  <thead>\n",
       "    <tr style=\"text-align: right;\">\n",
       "      <th></th>\n",
       "      <th>留言编号</th>\n",
       "      <th>留言用户</th>\n",
       "      <th>留言主题</th>\n",
       "      <th>留言时间</th>\n",
       "      <th>留言详情</th>\n",
       "      <th>一级标签</th>\n",
       "    </tr>\n",
       "  </thead>\n",
       "  <tbody>\n",
       "    <tr>\n",
       "      <th>0</th>\n",
       "      <td>24</td>\n",
       "      <td>A00074011</td>\n",
       "      <td>A市西湖建筑集团占道施工有安全隐患</td>\n",
       "      <td>2020/1/612:09:38</td>\n",
       "      <td>A3区大道西行便道，未管所路口至加油站路段，人行道包括路灯杆，被圈西湖建筑集团燕子山安置房项...</td>\n",
       "      <td>城乡建设</td>\n",
       "    </tr>\n",
       "    <tr>\n",
       "      <th>1</th>\n",
       "      <td>37</td>\n",
       "      <td>U0008473</td>\n",
       "      <td>A市在水一方大厦人为烂尾多年，安全隐患严重</td>\n",
       "      <td>2020/1/411:17:46</td>\n",
       "      <td>位于书院路主干道的在水一方大厦一楼至四楼人为拆除水、电等设施后，烂尾多年，用护栏围着，不但占...</td>\n",
       "      <td>城乡建设</td>\n",
       "    </tr>\n",
       "    <tr>\n",
       "      <th>2</th>\n",
       "      <td>83</td>\n",
       "      <td>A00063999</td>\n",
       "      <td>投诉A市A1区苑物业违规收停车费</td>\n",
       "      <td>2019/12/3017:06:14</td>\n",
       "      <td>尊敬的领导：A1区苑小区位于A1区火炬路，小区物业A市程明物业管理有限公司，未经小区业主同意...</td>\n",
       "      <td>城乡建设</td>\n",
       "    </tr>\n",
       "    <tr>\n",
       "      <th>3</th>\n",
       "      <td>303</td>\n",
       "      <td>U0007137</td>\n",
       "      <td>A1区蔡锷南路A2区华庭楼顶水箱长年不洗</td>\n",
       "      <td>2019/12/614:40:14</td>\n",
       "      <td>A1区A2区华庭小区高层为二次供水，楼顶水箱长年不洗，现在自来水龙头的水严重霉味，大家都知道...</td>\n",
       "      <td>城乡建设</td>\n",
       "    </tr>\n",
       "    <tr>\n",
       "      <th>4</th>\n",
       "      <td>319</td>\n",
       "      <td>U0007137</td>\n",
       "      <td>A1区A2区华庭自来水好大一股霉味</td>\n",
       "      <td>2019/12/511:17:22</td>\n",
       "      <td>A1区A2区华庭小区高层为二次供水，楼顶水箱长年不洗，现在自来水龙头的水严重霉味，大家都知道...</td>\n",
       "      <td>城乡建设</td>\n",
       "    </tr>\n",
       "  </tbody>\n",
       "</table>\n",
       "</div>"
      ],
      "text/plain": [
       "   留言编号       留言用户                   留言主题                留言时间  \\\n",
       "0    24  A00074011      A市西湖建筑集团占道施工有安全隐患    2020/1/612:09:38   \n",
       "1    37   U0008473  A市在水一方大厦人为烂尾多年，安全隐患严重    2020/1/411:17:46   \n",
       "2    83  A00063999       投诉A市A1区苑物业违规收停车费  2019/12/3017:06:14   \n",
       "3   303   U0007137   A1区蔡锷南路A2区华庭楼顶水箱长年不洗   2019/12/614:40:14   \n",
       "4   319   U0007137      A1区A2区华庭自来水好大一股霉味   2019/12/511:17:22   \n",
       "\n",
       "                                                留言详情  一级标签  \n",
       "0  A3区大道西行便道，未管所路口至加油站路段，人行道包括路灯杆，被圈西湖建筑集团燕子山安置房项...  城乡建设  \n",
       "1  位于书院路主干道的在水一方大厦一楼至四楼人为拆除水、电等设施后，烂尾多年，用护栏围着，不但占...  城乡建设  \n",
       "2  尊敬的领导：A1区苑小区位于A1区火炬路，小区物业A市程明物业管理有限公司，未经小区业主同意...  城乡建设  \n",
       "3  A1区A2区华庭小区高层为二次供水，楼顶水箱长年不洗，现在自来水龙头的水严重霉味，大家都知道...  城乡建设  \n",
       "4  A1区A2区华庭小区高层为二次供水，楼顶水箱长年不洗，现在自来水龙头的水严重霉味，大家都知道...  城乡建设  "
      ]
     },
     "execution_count": 4,
     "metadata": {},
     "output_type": "execute_result"
    }
   ],
   "source": [
    "df.head()"
   ]
  },
  {
   "cell_type": "code",
   "execution_count": null,
   "id": "8f142cd2-b8db-47cd-8e19-8f00b7908410",
   "metadata": {},
   "outputs": [],
   "source": []
  }
 ],
 "metadata": {
  "kernelspec": {
   "display_name": "pytorch",
   "language": "python",
   "name": "pytorch"
  },
  "language_info": {
   "codemirror_mode": {
    "name": "ipython",
    "version": 3
   },
   "file_extension": ".py",
   "mimetype": "text/x-python",
   "name": "python",
   "nbconvert_exporter": "python",
   "pygments_lexer": "ipython3",
   "version": "3.11.6"
  }
 },
 "nbformat": 4,
 "nbformat_minor": 5
}
