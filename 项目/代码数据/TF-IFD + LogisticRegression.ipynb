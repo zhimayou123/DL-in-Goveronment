{
 "cells": [
  {
   "cell_type": "code",
   "execution_count": 1,
   "id": "3fc358d2",
   "metadata": {
    "ExecuteTime": {
     "end_time": "2023-12-30T16:43:16.031802Z",
     "start_time": "2023-12-30T16:43:15.112603Z"
    }
   },
   "outputs": [],
   "source": [
    "from sklearn.linear_model import LogisticRegression\n",
    "import csv\n",
    "import numpy as np\n",
    "import pandas as pd\n",
    "import warnings\n",
    "import jieba\n",
    "import jieba.posseg as pseg\n",
    "from jieba import analyse\n",
    "from sklearn.model_selection import train_test_split\n",
    "from sklearn.metrics import confusion_matrix, classification_report\n",
    "warnings.filterwarnings('ignore')"
   ]
  },
  {
   "cell_type": "code",
   "execution_count": 2,
   "id": "99407612",
   "metadata": {
    "ExecuteTime": {
     "end_time": "2023-12-30T16:43:16.148102Z",
     "start_time": "2023-12-30T16:43:16.032877Z"
    }
   },
   "outputs": [],
   "source": [
    "data = pd.read_csv('shuju2.csv')"
   ]
  },
  {
   "cell_type": "code",
   "execution_count": 3,
   "id": "d822f6a6",
   "metadata": {
    "ExecuteTime": {
     "end_time": "2023-12-30T16:43:16.157078Z",
     "start_time": "2023-12-30T16:43:16.150935Z"
    }
   },
   "outputs": [
    {
     "data": {
      "text/html": [
       "<div>\n",
       "<style scoped>\n",
       "    .dataframe tbody tr th:only-of-type {\n",
       "        vertical-align: middle;\n",
       "    }\n",
       "\n",
       "    .dataframe tbody tr th {\n",
       "        vertical-align: top;\n",
       "    }\n",
       "\n",
       "    .dataframe thead th {\n",
       "        text-align: right;\n",
       "    }\n",
       "</style>\n",
       "<table border=\"1\" class=\"dataframe\">\n",
       "  <thead>\n",
       "    <tr style=\"text-align: right;\">\n",
       "      <th></th>\n",
       "      <th>留言编号</th>\n",
       "      <th>留言用户</th>\n",
       "      <th>留言主题</th>\n",
       "      <th>留言时间</th>\n",
       "      <th>留言详情</th>\n",
       "      <th>一级标签</th>\n",
       "    </tr>\n",
       "  </thead>\n",
       "  <tbody>\n",
       "    <tr>\n",
       "      <th>0</th>\n",
       "      <td>24</td>\n",
       "      <td>A00074011</td>\n",
       "      <td>A市西湖建筑集团占道施工有安全隐患</td>\n",
       "      <td>2020/1/612:09:38</td>\n",
       "      <td>A3区大道西行便道，未管所路口至加油站路段，人行道包括路灯杆，被圈西湖建筑集团燕子山安置房项...</td>\n",
       "      <td>城乡建设</td>\n",
       "    </tr>\n",
       "    <tr>\n",
       "      <th>1</th>\n",
       "      <td>37</td>\n",
       "      <td>U0008473</td>\n",
       "      <td>A市在水一方大厦人为烂尾多年，安全隐患严重</td>\n",
       "      <td>2020/1/411:17:46</td>\n",
       "      <td>位于书院路主干道的在水一方大厦一楼至四楼人为拆除水、电等设施后，烂尾多年，用护栏围着，不但占...</td>\n",
       "      <td>城乡建设</td>\n",
       "    </tr>\n",
       "    <tr>\n",
       "      <th>2</th>\n",
       "      <td>83</td>\n",
       "      <td>A00063999</td>\n",
       "      <td>投诉A市A1区苑物业违规收停车费</td>\n",
       "      <td>2019/12/3017:06:14</td>\n",
       "      <td>尊敬的领导：A1区苑小区位于A1区火炬路，小区物业A市程明物业管理有限公司，未经小区业主同意...</td>\n",
       "      <td>城乡建设</td>\n",
       "    </tr>\n",
       "    <tr>\n",
       "      <th>3</th>\n",
       "      <td>303</td>\n",
       "      <td>U0007137</td>\n",
       "      <td>A1区蔡锷南路A2区华庭楼顶水箱长年不洗</td>\n",
       "      <td>2019/12/614:40:14</td>\n",
       "      <td>A1区A2区华庭小区高层为二次供水，楼顶水箱长年不洗，现在自来水龙头的水严重霉味，大家都知道...</td>\n",
       "      <td>城乡建设</td>\n",
       "    </tr>\n",
       "    <tr>\n",
       "      <th>4</th>\n",
       "      <td>319</td>\n",
       "      <td>U0007137</td>\n",
       "      <td>A1区A2区华庭自来水好大一股霉味</td>\n",
       "      <td>2019/12/511:17:22</td>\n",
       "      <td>A1区A2区华庭小区高层为二次供水，楼顶水箱长年不洗，现在自来水龙头的水严重霉味，大家都知道...</td>\n",
       "      <td>城乡建设</td>\n",
       "    </tr>\n",
       "    <tr>\n",
       "      <th>...</th>\n",
       "      <td>...</td>\n",
       "      <td>...</td>\n",
       "      <td>...</td>\n",
       "      <td>...</td>\n",
       "      <td>...</td>\n",
       "      <td>...</td>\n",
       "    </tr>\n",
       "    <tr>\n",
       "      <th>9205</th>\n",
       "      <td>11763690</td>\n",
       "      <td>U0005980</td>\n",
       "      <td>两孩子一个是一级脑瘫，能再生育吗？</td>\n",
       "      <td>2015/4/2218:46:00</td>\n",
       "      <td>我们夫妻都是农村户口，大的是女9岁，小的是儿2岁半，才15斤，治疗两年，一级脑瘫。我是纯女户...</td>\n",
       "      <td>卫生计生</td>\n",
       "    </tr>\n",
       "    <tr>\n",
       "      <th>9206</th>\n",
       "      <td>11977590</td>\n",
       "      <td>U0005367</td>\n",
       "      <td>B市中心医院医生不负责任，做无痛人流手术后结果还是活胚芽</td>\n",
       "      <td>2014/9/2915:16:46</td>\n",
       "      <td>本人2015年2月16号在B市中心医院做无痛人流手术，手术后还有怀孕的症状，于2015年2月...</td>\n",
       "      <td>卫生计生</td>\n",
       "    </tr>\n",
       "    <tr>\n",
       "      <th>9207</th>\n",
       "      <td>14697490</td>\n",
       "      <td>U0002040</td>\n",
       "      <td>西地省二胎产假新政策何时出台？</td>\n",
       "      <td>2016/2/2915:17:44</td>\n",
       "      <td>我们是再婚，很想再要一个小孩，不知我省二胎新政策何时出，如果先怀孕了，会做和处理</td>\n",
       "      <td>卫生计生</td>\n",
       "    </tr>\n",
       "    <tr>\n",
       "      <th>9208</th>\n",
       "      <td>15397690</td>\n",
       "      <td>U0001803</td>\n",
       "      <td>K8县惊现奇葩证明！</td>\n",
       "      <td>2016/4/178:15:17</td>\n",
       "      <td>K8县惊现奇葩证明！我是西地省K8县人，想生二孩。被告知要开证明，即“没生二孩的证明”。先写...</td>\n",
       "      <td>卫生计生</td>\n",
       "    </tr>\n",
       "    <tr>\n",
       "      <th>9209</th>\n",
       "      <td>16135190</td>\n",
       "      <td>U0008213</td>\n",
       "      <td>请问J4县卫计委社会抚养费到底该交多少钱？</td>\n",
       "      <td>2016/5/277:15:34</td>\n",
       "      <td>领导你好，我们属于未婚生子，但是在2013年已经接受处罚，小孩已上户，但是因小孩在外地上学需...</td>\n",
       "      <td>卫生计生</td>\n",
       "    </tr>\n",
       "  </tbody>\n",
       "</table>\n",
       "<p>9210 rows × 6 columns</p>\n",
       "</div>"
      ],
      "text/plain": [
       "          留言编号       留言用户                          留言主题                留言时间  \\\n",
       "0           24  A00074011             A市西湖建筑集团占道施工有安全隐患    2020/1/612:09:38   \n",
       "1           37   U0008473         A市在水一方大厦人为烂尾多年，安全隐患严重    2020/1/411:17:46   \n",
       "2           83  A00063999              投诉A市A1区苑物业违规收停车费  2019/12/3017:06:14   \n",
       "3          303   U0007137          A1区蔡锷南路A2区华庭楼顶水箱长年不洗   2019/12/614:40:14   \n",
       "4          319   U0007137             A1区A2区华庭自来水好大一股霉味   2019/12/511:17:22   \n",
       "...        ...        ...                           ...                 ...   \n",
       "9205  11763690   U0005980             两孩子一个是一级脑瘫，能再生育吗？   2015/4/2218:46:00   \n",
       "9206  11977590   U0005367  B市中心医院医生不负责任，做无痛人流手术后结果还是活胚芽   2014/9/2915:16:46   \n",
       "9207  14697490   U0002040               西地省二胎产假新政策何时出台？   2016/2/2915:17:44   \n",
       "9208  15397690   U0001803                    K8县惊现奇葩证明！    2016/4/178:15:17   \n",
       "9209  16135190   U0008213         请问J4县卫计委社会抚养费到底该交多少钱？    2016/5/277:15:34   \n",
       "\n",
       "                                                   留言详情  一级标签  \n",
       "0     A3区大道西行便道，未管所路口至加油站路段，人行道包括路灯杆，被圈西湖建筑集团燕子山安置房项...  城乡建设  \n",
       "1     位于书院路主干道的在水一方大厦一楼至四楼人为拆除水、电等设施后，烂尾多年，用护栏围着，不但占...  城乡建设  \n",
       "2     尊敬的领导：A1区苑小区位于A1区火炬路，小区物业A市程明物业管理有限公司，未经小区业主同意...  城乡建设  \n",
       "3     A1区A2区华庭小区高层为二次供水，楼顶水箱长年不洗，现在自来水龙头的水严重霉味，大家都知道...  城乡建设  \n",
       "4     A1区A2区华庭小区高层为二次供水，楼顶水箱长年不洗，现在自来水龙头的水严重霉味，大家都知道...  城乡建设  \n",
       "...                                                 ...   ...  \n",
       "9205  我们夫妻都是农村户口，大的是女9岁，小的是儿2岁半，才15斤，治疗两年，一级脑瘫。我是纯女户...  卫生计生  \n",
       "9206  本人2015年2月16号在B市中心医院做无痛人流手术，手术后还有怀孕的症状，于2015年2月...  卫生计生  \n",
       "9207           我们是再婚，很想再要一个小孩，不知我省二胎新政策何时出，如果先怀孕了，会做和处理  卫生计生  \n",
       "9208  K8县惊现奇葩证明！我是西地省K8县人，想生二孩。被告知要开证明，即“没生二孩的证明”。先写...  卫生计生  \n",
       "9209  领导你好，我们属于未婚生子，但是在2013年已经接受处罚，小孩已上户，但是因小孩在外地上学需...  卫生计生  \n",
       "\n",
       "[9210 rows x 6 columns]"
      ]
     },
     "execution_count": 3,
     "metadata": {},
     "output_type": "execute_result"
    }
   ],
   "source": [
    "data"
   ]
  },
  {
   "cell_type": "code",
   "execution_count": 4,
   "id": "9af38061",
   "metadata": {
    "ExecuteTime": {
     "end_time": "2023-12-30T16:43:16.163128Z",
     "start_time": "2023-12-30T16:43:16.158410Z"
    }
   },
   "outputs": [],
   "source": [
    "data['留言内容'] = data['留言主题'] + ' ' + data['留言详情']"
   ]
  },
  {
   "cell_type": "code",
   "execution_count": 5,
   "id": "3e2e68f9",
   "metadata": {
    "ExecuteTime": {
     "end_time": "2023-12-30T16:43:16.169342Z",
     "start_time": "2023-12-30T16:43:16.163813Z"
    }
   },
   "outputs": [
    {
     "name": "stdout",
     "output_type": "stream",
     "text": [
      "<class 'pandas.core.frame.DataFrame'>\n",
      "RangeIndex: 9210 entries, 0 to 9209\n",
      "Data columns (total 7 columns):\n",
      " #   Column  Non-Null Count  Dtype \n",
      "---  ------  --------------  ----- \n",
      " 0   留言编号    9210 non-null   int64 \n",
      " 1   留言用户    9210 non-null   object\n",
      " 2   留言主题    9210 non-null   object\n",
      " 3   留言时间    9210 non-null   object\n",
      " 4   留言详情    9210 non-null   object\n",
      " 5   一级标签    9210 non-null   object\n",
      " 6   留言内容    9210 non-null   object\n",
      "dtypes: int64(1), object(6)\n",
      "memory usage: 503.8+ KB\n"
     ]
    }
   ],
   "source": [
    "data.info()"
   ]
  },
  {
   "cell_type": "code",
   "execution_count": 6,
   "id": "f6faa98c",
   "metadata": {
    "ExecuteTime": {
     "end_time": "2023-12-30T16:43:16.174183Z",
     "start_time": "2023-12-30T16:43:16.170194Z"
    }
   },
   "outputs": [
    {
     "data": {
      "text/plain": [
       "一级标签\n",
       "城乡建设       2009\n",
       "劳动和社会保障    1969\n",
       "教育文体       1589\n",
       "商贸旅游       1215\n",
       "环境保护        938\n",
       "卫生计生        877\n",
       "交通运输        613\n",
       "Name: count, dtype: int64"
      ]
     },
     "execution_count": 6,
     "metadata": {},
     "output_type": "execute_result"
    }
   ],
   "source": [
    "data['一级标签'].value_counts()"
   ]
  },
  {
   "cell_type": "markdown",
   "id": "cdd60f6b",
   "metadata": {},
   "source": [
    "### 对留言内容进行文本预处理 "
   ]
  },
  {
   "cell_type": "code",
   "execution_count": 7,
   "id": "947b1311",
   "metadata": {
    "ExecuteTime": {
     "end_time": "2023-12-30T16:43:16.226952Z",
     "start_time": "2023-12-30T16:43:16.177215Z"
    }
   },
   "outputs": [],
   "source": [
    "messages = list(data['留言内容'].values)\n",
    "csv_filename = '留言信息.csv'\n",
    "\n",
    "with open(csv_filename, 'w', newline='', encoding='utf-8') as csv_file:\n",
    "    writer = csv.writer(csv_file)\n",
    "    # 写入留言\n",
    "    for message in messages:\n",
    "        writer.writerow([message])"
   ]
  },
  {
   "cell_type": "code",
   "execution_count": 8,
   "id": "1f0c76fc",
   "metadata": {
    "ExecuteTime": {
     "end_time": "2023-12-30T16:43:16.234293Z",
     "start_time": "2023-12-30T16:43:16.227933Z"
    }
   },
   "outputs": [],
   "source": [
    "# 获取停用词\n",
    "def load_stopwords(stopwords_file):\n",
    "    stopwords = set()\n",
    "    with open(stopwords_file, 'r', encoding='utf-8') as f:\n",
    "        for line in f:\n",
    "            stopwords.add(line.strip())\n",
    "    return stopwords\n",
    "\n",
    "stopwords = load_stopwords('哈工大停用词表.txt')"
   ]
  },
  {
   "cell_type": "code",
   "execution_count": 9,
   "id": "7d2ac70c",
   "metadata": {
    "ExecuteTime": {
     "end_time": "2023-12-30T16:44:02.338994Z",
     "start_time": "2023-12-30T16:43:16.238545Z"
    }
   },
   "outputs": [
    {
     "name": "stderr",
     "output_type": "stream",
     "text": [
      "Building prefix dict from the default dictionary ...\n",
      "Loading model from cache /var/folders/cr/ywvw0phn6pz14brg34z9p0p40000gn/T/jieba.cache\n",
      "Loading model cost 0.314 seconds.\n",
      "Prefix dict has been built successfully.\n"
     ]
    },
    {
     "data": {
      "text/plain": [
       "9210"
      ]
     },
     "execution_count": 9,
     "metadata": {},
     "output_type": "execute_result"
    }
   ],
   "source": [
    "# 加载文档集，对文档集过滤词性和停用词\n",
    "def filter_documents(data_path, stopwords):\n",
    "    documents = []\n",
    "    with open(data_path, 'r', encoding='utf-8') as f:\n",
    "        for line in f:\n",
    "            document = []\n",
    "            words = pseg.cut(line.strip())\n",
    "            for word, flag in words:\n",
    "                if flag.startswith('n') and word not in stopwords and len(word) > 1:\n",
    "                    document.append(word)\n",
    "            documents.append(document)\n",
    "    return documents\n",
    "\n",
    "new_documents = filter_documents('留言信息.csv',stopwords)\n",
    "len(new_documents)"
   ]
  },
  {
   "cell_type": "markdown",
   "id": "15ac79ea",
   "metadata": {},
   "source": [
    "### 处理后的展示"
   ]
  },
  {
   "cell_type": "code",
   "execution_count": 10,
   "id": "48098bd9",
   "metadata": {
    "ExecuteTime": {
     "end_time": "2023-12-30T16:44:02.341853Z",
     "start_time": "2023-12-30T16:44:02.339747Z"
    }
   },
   "outputs": [
    {
     "data": {
      "text/plain": [
       "['西湖',\n",
       " '建筑',\n",
       " '集团',\n",
       " '大道',\n",
       " '加油站',\n",
       " '路段',\n",
       " '人行道',\n",
       " '路灯',\n",
       " '西湖',\n",
       " '建筑',\n",
       " '集团',\n",
       " '燕子',\n",
       " '项目',\n",
       " '围墙',\n",
       " '人流',\n",
       " '车流',\n",
       " '文明城市',\n",
       " '文明',\n",
       " '路段']"
      ]
     },
     "execution_count": 10,
     "metadata": {},
     "output_type": "execute_result"
    }
   ],
   "source": [
    "new_documents[0]"
   ]
  },
  {
   "cell_type": "markdown",
   "id": "dc601f4e",
   "metadata": {},
   "source": [
    "### 将留言做成TF-IDF中TfidfVectorizer要求的输入格式"
   ]
  },
  {
   "cell_type": "code",
   "execution_count": 11,
   "id": "927e4f6b",
   "metadata": {
    "ExecuteTime": {
     "end_time": "2023-12-30T16:44:02.353547Z",
     "start_time": "2023-12-30T16:44:02.342385Z"
    }
   },
   "outputs": [
    {
     "data": {
      "text/plain": [
       "9210"
      ]
     },
     "execution_count": 11,
     "metadata": {},
     "output_type": "execute_result"
    }
   ],
   "source": [
    "b = []\n",
    "for sentence in new_documents:\n",
    "    string = ' '.join(sentence)\n",
    "    b.append(string)\n",
    "len(b)"
   ]
  },
  {
   "cell_type": "code",
   "execution_count": 12,
   "id": "e74884f2",
   "metadata": {
    "ExecuteTime": {
     "end_time": "2023-12-30T16:44:02.783680Z",
     "start_time": "2023-12-30T16:44:02.354502Z"
    }
   },
   "outputs": [],
   "source": [
    "for i in range(len(b)):\n",
    "    data['留言内容'][i] = b[i]"
   ]
  },
  {
   "cell_type": "code",
   "execution_count": 13,
   "id": "fad574f2",
   "metadata": {
    "ExecuteTime": {
     "end_time": "2023-12-30T16:44:02.882331Z",
     "start_time": "2023-12-30T16:44:02.784381Z"
    }
   },
   "outputs": [],
   "source": [
    "import gensim\n",
    "from gensim.models.doc2vec import Doc2Vec\n",
    "TaggededDocument = gensim.models.doc2vec.TaggedDocument\n",
    "def deal(cut_sentences):\n",
    "    train = []\n",
    "    for i,text in enumerate(cut_sentences):\n",
    "        word_list = text.split(' ')\n",
    "        l = len(word_list)\n",
    "        word_list[l-1] = word_list[l-1].strip()\n",
    "        document = TaggededDocument(word_list,tags = [i])\n",
    "        train.append(document)\n",
    "    return train"
   ]
  },
  {
   "cell_type": "code",
   "execution_count": 14,
   "id": "c47cdbfd",
   "metadata": {
    "ExecuteTime": {
     "end_time": "2023-12-30T16:44:02.949486Z",
     "start_time": "2023-12-30T16:44:02.882982Z"
    }
   },
   "outputs": [],
   "source": [
    "c = deal(b)"
   ]
  },
  {
   "cell_type": "markdown",
   "id": "2bfd1fca",
   "metadata": {},
   "source": [
    "### 数据划分"
   ]
  },
  {
   "cell_type": "code",
   "execution_count": 15,
   "id": "4e3159a7",
   "metadata": {
    "ExecuteTime": {
     "end_time": "2023-12-30T16:44:03.131583Z",
     "start_time": "2023-12-30T16:44:02.950193Z"
    }
   },
   "outputs": [],
   "source": [
    "from sklearn.feature_extraction.text import TfidfTransformer\n",
    "from sklearn.feature_extraction.text import CountVectorizer,TfidfVectorizer\n",
    "vectorizer = TfidfVectorizer()\n",
    "wordmtx=vectorizer.fit_transform(b)"
   ]
  },
  {
   "cell_type": "code",
   "execution_count": 46,
   "id": "6e7becf3",
   "metadata": {
    "ExecuteTime": {
     "end_time": "2023-12-31T06:45:26.891114Z",
     "start_time": "2023-12-31T06:45:26.724233Z"
    }
   },
   "outputs": [
    {
     "data": {
      "text/plain": [
       "(9210, 37548)"
      ]
     },
     "execution_count": 46,
     "metadata": {},
     "output_type": "execute_result"
    }
   ],
   "source": [
    "wordmtx.toarray().shape"
   ]
  },
  {
   "cell_type": "code",
   "execution_count": 16,
   "id": "5a6451b1",
   "metadata": {
    "ExecuteTime": {
     "end_time": "2023-12-30T16:44:03.135795Z",
     "start_time": "2023-12-30T16:44:03.132329Z"
    }
   },
   "outputs": [],
   "source": [
    "x_train,x_test, y_train, y_test = train_test_split(wordmtx,data['一级标签'],test_size=0.2, random_state=11)"
   ]
  },
  {
   "cell_type": "markdown",
   "id": "bd7aa298",
   "metadata": {},
   "source": [
    "### 逻辑回归分类"
   ]
  },
  {
   "cell_type": "code",
   "execution_count": 27,
   "id": "de419fe4",
   "metadata": {
    "ExecuteTime": {
     "end_time": "2023-12-30T16:53:22.159405Z",
     "start_time": "2023-12-30T16:53:19.716443Z"
    }
   },
   "outputs": [],
   "source": [
    "logitmodel=LogisticRegression()#定义回归模型\n",
    "logitmodel.fit(x_train,y_train)#训练模型\n",
    "y_pred = logitmodel.predict(x_test)"
   ]
  },
  {
   "cell_type": "code",
   "execution_count": 33,
   "id": "2f5ce132",
   "metadata": {
    "ExecuteTime": {
     "end_time": "2023-12-30T16:55:28.262921Z",
     "start_time": "2023-12-30T16:55:28.177666Z"
    }
   },
   "outputs": [
    {
     "name": "stdout",
     "output_type": "stream",
     "text": [
      "              precision    recall  f1-score   support\n",
      "\n",
      "           0       0.93      0.63      0.75       121\n",
      "           1       0.89      0.93      0.91       401\n",
      "           2       0.94      0.84      0.89       157\n",
      "           3       0.87      0.82      0.84       257\n",
      "           4       0.77      0.90      0.83       402\n",
      "           5       0.92      0.94      0.93       318\n",
      "           6       0.94      0.83      0.88       186\n",
      "\n",
      "    accuracy                           0.87      1842\n",
      "   macro avg       0.89      0.84      0.86      1842\n",
      "weighted avg       0.88      0.87      0.87      1842\n",
      "\n"
     ]
    }
   ],
   "source": [
    "#使用classification_report()生成分类报告\n",
    "class_names = [0,1,2,3,4,5,6]\n",
    "report = classification_report(y_test, y_pred, target_names=[str(label) for label in class_names], output_dict=True)\n",
    "print(classification_report(y_test, y_pred, target_names=[str(label) for label in class_names]))"
   ]
  },
  {
   "cell_type": "code",
   "execution_count": 29,
   "id": "e269a15b",
   "metadata": {
    "ExecuteTime": {
     "end_time": "2023-12-30T16:53:25.196650Z",
     "start_time": "2023-12-30T16:53:25.076206Z"
    }
   },
   "outputs": [
    {
     "data": {
      "image/png": "[encoded data removed]",
      "text/plain": [
       "<Figure size 640x480 with 2 Axes>"
      ]
     },
     "metadata": {},
     "output_type": "display_data"
    }
   ],
   "source": [
    "import seaborn as sns\n",
    "import matplotlib.pyplot as plt\n",
    "%matplotlib inline\n",
    "\n",
    "def show_confusion_matrix(confusion_matrix):\n",
    "    hmap = sns.heatmap(confusion_matrix, annot=True, fmt=\"d\", cmap=\"Blues\")\n",
    "    hmap.yaxis.set_ticklabels(hmap.yaxis.get_ticklabels(), rotation=0, ha='right')\n",
    "    hmap.xaxis.set_ticklabels(hmap.xaxis.get_ticklabels(), rotation=30, ha='right')\n",
    "    plt.ylabel('True label')\n",
    "    plt.xlabel('Predicted label');\n",
    "\n",
    "\n",
    "cm = confusion_matrix(y_test, y_pred)\n",
    "df_cm = pd.DataFrame(cm)\n",
    "show_confusion_matrix(df_cm)"
   ]
  }
 ],
 "metadata": {
  "kernelspec": {
   "display_name": "Python 3 (ipykernel)",
   "language": "python",
   "name": "python3"
  },
  "language_info": {
   "codemirror_mode": {
    "name": "ipython",
    "version": 3
   },
   "file_extension": ".py",
   "mimetype": "text/x-python",
   "name": "python",
   "nbconvert_exporter": "python",
   "pygments_lexer": "ipython3",
   "version": "3.11.5"
  }
 },
 "nbformat": 4,
 "nbformat_minor": 5
}
