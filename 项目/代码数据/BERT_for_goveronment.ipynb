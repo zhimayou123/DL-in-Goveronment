{
 "cells": [
  {
   "cell_type": "code",
   "execution_count": 1,
   "id": "7f46bfcb",
   "metadata": {},
   "outputs": [],
   "source": [
    "#导入transformers\n",
    "import transformers\n",
    "from transformers import BertModel, BertTokenizer, AdamW, get_linear_schedule_with_warmup\n",
    "\n",
    "# 导入torch\n",
    "import torch\n",
    "from torch import nn, optim\n",
    "from torch.utils.data import Dataset, DataLoader\n",
    "import torch.nn.functional as F\n",
    "\n",
    "\n",
    "# 常用包\n",
    "import re\n",
    "import numpy as np\n",
    "import pandas as pd\n",
    "import seaborn as sns\n",
    "from pylab import rcParams\n",
    "from collections import Counter\n",
    "import matplotlib.pyplot as plt\n",
    "from matplotlib import rc\n",
    "from sklearn.model_selection import train_test_split\n",
    "from sklearn.metrics import confusion_matrix, classification_report\n",
    "from collections import defaultdict\n",
    "from textwrap import wrap\n",
    "import warnings\n",
    "warnings.filterwarnings('ignore')\n",
    "%matplotlib inline"
   ]
  },
  {
   "cell_type": "code",
   "execution_count": 2,
   "id": "675e07af",
   "metadata": {},
   "outputs": [],
   "source": [
    "data = pd.read_csv('shuju2.csv')"
   ]
  },
  {
   "cell_type": "code",
   "execution_count": 3,
   "id": "c7dec104-7fa8-4c3a-b900-94c512e7292a",
   "metadata": {},
   "outputs": [
    {
     "data": {
      "text/html": [
       "<div>\n",
       "<style scoped>\n",
       "    .dataframe tbody tr th:only-of-type {\n",
       "        vertical-align: middle;\n",
       "    }\n",
       "\n",
       "    .dataframe tbody tr th {\n",
       "        vertical-align: top;\n",
       "    }\n",
       "\n",
       "    .dataframe thead th {\n",
       "        text-align: right;\n",
       "    }\n",
       "</style>\n",
       "<table border=\"1\" class=\"dataframe\">\n",
       "  <thead>\n",
       "    <tr style=\"text-align: right;\">\n",
       "      <th></th>\n",
       "      <th>留言编号</th>\n",
       "      <th>留言用户</th>\n",
       "      <th>留言主题</th>\n",
       "      <th>留言时间</th>\n",
       "      <th>留言详情</th>\n",
       "      <th>一级标签</th>\n",
       "    </tr>\n",
       "  </thead>\n",
       "  <tbody>\n",
       "    <tr>\n",
       "      <th>0</th>\n",
       "      <td>24</td>\n",
       "      <td>A00074011</td>\n",
       "      <td>A市西湖建筑集团占道施工有安全隐患</td>\n",
       "      <td>2020/1/612:09:38</td>\n",
       "      <td>A3区大道西行便道，未管所路口至加油站路段，人行道包括路灯杆，被圈西湖建筑集团燕子山安置房项...</td>\n",
       "      <td>城乡建设</td>\n",
       "    </tr>\n",
       "    <tr>\n",
       "      <th>1</th>\n",
       "      <td>37</td>\n",
       "      <td>U0008473</td>\n",
       "      <td>A市在水一方大厦人为烂尾多年，安全隐患严重</td>\n",
       "      <td>2020/1/411:17:46</td>\n",
       "      <td>位于书院路主干道的在水一方大厦一楼至四楼人为拆除水、电等设施后，烂尾多年，用护栏围着，不但占...</td>\n",
       "      <td>城乡建设</td>\n",
       "    </tr>\n",
       "    <tr>\n",
       "      <th>2</th>\n",
       "      <td>83</td>\n",
       "      <td>A00063999</td>\n",
       "      <td>投诉A市A1区苑物业违规收停车费</td>\n",
       "      <td>2019/12/3017:06:14</td>\n",
       "      <td>尊敬的领导：A1区苑小区位于A1区火炬路，小区物业A市程明物业管理有限公司，未经小区业主同意...</td>\n",
       "      <td>城乡建设</td>\n",
       "    </tr>\n",
       "    <tr>\n",
       "      <th>3</th>\n",
       "      <td>303</td>\n",
       "      <td>U0007137</td>\n",
       "      <td>A1区蔡锷南路A2区华庭楼顶水箱长年不洗</td>\n",
       "      <td>2019/12/614:40:14</td>\n",
       "      <td>A1区A2区华庭小区高层为二次供水，楼顶水箱长年不洗，现在自来水龙头的水严重霉味，大家都知道...</td>\n",
       "      <td>城乡建设</td>\n",
       "    </tr>\n",
       "    <tr>\n",
       "      <th>4</th>\n",
       "      <td>319</td>\n",
       "      <td>U0007137</td>\n",
       "      <td>A1区A2区华庭自来水好大一股霉味</td>\n",
       "      <td>2019/12/511:17:22</td>\n",
       "      <td>A1区A2区华庭小区高层为二次供水，楼顶水箱长年不洗，现在自来水龙头的水严重霉味，大家都知道...</td>\n",
       "      <td>城乡建设</td>\n",
       "    </tr>\n",
       "    <tr>\n",
       "      <th>...</th>\n",
       "      <td>...</td>\n",
       "      <td>...</td>\n",
       "      <td>...</td>\n",
       "      <td>...</td>\n",
       "      <td>...</td>\n",
       "      <td>...</td>\n",
       "    </tr>\n",
       "    <tr>\n",
       "      <th>9205</th>\n",
       "      <td>11763690</td>\n",
       "      <td>U0005980</td>\n",
       "      <td>两孩子一个是一级脑瘫，能再生育吗？</td>\n",
       "      <td>2015/4/2218:46:00</td>\n",
       "      <td>我们夫妻都是农村户口，大的是女9岁，小的是儿2岁半，才15斤，治疗两年，一级脑瘫。我是纯女户...</td>\n",
       "      <td>卫生计生</td>\n",
       "    </tr>\n",
       "    <tr>\n",
       "      <th>9206</th>\n",
       "      <td>11977590</td>\n",
       "      <td>U0005367</td>\n",
       "      <td>B市中心医院医生不负责任，做无痛人流手术后结果还是活胚芽</td>\n",
       "      <td>2014/9/2915:16:46</td>\n",
       "      <td>本人2015年2月16号在B市中心医院做无痛人流手术，手术后还有怀孕的症状，于2015年2月...</td>\n",
       "      <td>卫生计生</td>\n",
       "    </tr>\n",
       "    <tr>\n",
       "      <th>9207</th>\n",
       "      <td>14697490</td>\n",
       "      <td>U0002040</td>\n",
       "      <td>西地省二胎产假新政策何时出台？</td>\n",
       "      <td>2016/2/2915:17:44</td>\n",
       "      <td>我们是再婚，很想再要一个小孩，不知我省二胎新政策何时出，如果先怀孕了，会做和处理</td>\n",
       "      <td>卫生计生</td>\n",
       "    </tr>\n",
       "    <tr>\n",
       "      <th>9208</th>\n",
       "      <td>15397690</td>\n",
       "      <td>U0001803</td>\n",
       "      <td>K8县惊现奇葩证明！</td>\n",
       "      <td>2016/4/178:15:17</td>\n",
       "      <td>K8县惊现奇葩证明！我是西地省K8县人，想生二孩。被告知要开证明，即“没生二孩的证明”。先写...</td>\n",
       "      <td>卫生计生</td>\n",
       "    </tr>\n",
       "    <tr>\n",
       "      <th>9209</th>\n",
       "      <td>16135190</td>\n",
       "      <td>U0008213</td>\n",
       "      <td>请问J4县卫计委社会抚养费到底该交多少钱？</td>\n",
       "      <td>2016/5/277:15:34</td>\n",
       "      <td>领导你好，我们属于未婚生子，但是在2013年已经接受处罚，小孩已上户，但是因小孩在外地上学需...</td>\n",
       "      <td>卫生计生</td>\n",
       "    </tr>\n",
       "  </tbody>\n",
       "</table>\n",
       "<p>9210 rows × 6 columns</p>\n",
       "</div>"
      ],
      "text/plain": [
       "          留言编号       留言用户                          留言主题                留言时间  \\\n",
       "0           24  A00074011             A市西湖建筑集团占道施工有安全隐患    2020/1/612:09:38   \n",
       "1           37   U0008473         A市在水一方大厦人为烂尾多年，安全隐患严重    2020/1/411:17:46   \n",
       "2           83  A00063999              投诉A市A1区苑物业违规收停车费  2019/12/3017:06:14   \n",
       "3          303   U0007137          A1区蔡锷南路A2区华庭楼顶水箱长年不洗   2019/12/614:40:14   \n",
       "4          319   U0007137             A1区A2区华庭自来水好大一股霉味   2019/12/511:17:22   \n",
       "...        ...        ...                           ...                 ...   \n",
       "9205  11763690   U0005980             两孩子一个是一级脑瘫，能再生育吗？   2015/4/2218:46:00   \n",
       "9206  11977590   U0005367  B市中心医院医生不负责任，做无痛人流手术后结果还是活胚芽   2014/9/2915:16:46   \n",
       "9207  14697490   U0002040               西地省二胎产假新政策何时出台？   2016/2/2915:17:44   \n",
       "9208  15397690   U0001803                    K8县惊现奇葩证明！    2016/4/178:15:17   \n",
       "9209  16135190   U0008213         请问J4县卫计委社会抚养费到底该交多少钱？    2016/5/277:15:34   \n",
       "\n",
       "                                                   留言详情  一级标签  \n",
       "0     A3区大道西行便道，未管所路口至加油站路段，人行道包括路灯杆，被圈西湖建筑集团燕子山安置房项...  城乡建设  \n",
       "1     位于书院路主干道的在水一方大厦一楼至四楼人为拆除水、电等设施后，烂尾多年，用护栏围着，不但占...  城乡建设  \n",
       "2     尊敬的领导：A1区苑小区位于A1区火炬路，小区物业A市程明物业管理有限公司，未经小区业主同意...  城乡建设  \n",
       "3     A1区A2区华庭小区高层为二次供水，楼顶水箱长年不洗，现在自来水龙头的水严重霉味，大家都知道...  城乡建设  \n",
       "4     A1区A2区华庭小区高层为二次供水，楼顶水箱长年不洗，现在自来水龙头的水严重霉味，大家都知道...  城乡建设  \n",
       "...                                                 ...   ...  \n",
       "9205  我们夫妻都是农村户口，大的是女9岁，小的是儿2岁半，才15斤，治疗两年，一级脑瘫。我是纯女户...  卫生计生  \n",
       "9206  本人2015年2月16号在B市中心医院做无痛人流手术，手术后还有怀孕的症状，于2015年2月...  卫生计生  \n",
       "9207           我们是再婚，很想再要一个小孩，不知我省二胎新政策何时出，如果先怀孕了，会做和处理  卫生计生  \n",
       "9208  K8县惊现奇葩证明！我是西地省K8县人，想生二孩。被告知要开证明，即“没生二孩的证明”。先写...  卫生计生  \n",
       "9209  领导你好，我们属于未婚生子，但是在2013年已经接受处罚，小孩已上户，但是因小孩在外地上学需...  卫生计生  \n",
       "\n",
       "[9210 rows x 6 columns]"
      ]
     },
     "execution_count": 3,
     "metadata": {},
     "output_type": "execute_result"
    }
   ],
   "source": [
    "data"
   ]
  },
  {
   "cell_type": "code",
   "execution_count": 4,
   "id": "f95dac66",
   "metadata": {},
   "outputs": [],
   "source": [
    "data['留言内容'] = data['留言主题'] + ' ' + data['留言详情']"
   ]
  },
  {
   "cell_type": "code",
   "execution_count": 5,
   "id": "311057a0",
   "metadata": {},
   "outputs": [
    {
     "name": "stdout",
     "output_type": "stream",
     "text": [
      "<class 'pandas.core.frame.DataFrame'>\n",
      "RangeIndex: 9210 entries, 0 to 9209\n",
      "Data columns (total 7 columns):\n",
      " #   Column  Non-Null Count  Dtype \n",
      "---  ------  --------------  ----- \n",
      " 0   留言编号    9210 non-null   int64 \n",
      " 1   留言用户    9210 non-null   object\n",
      " 2   留言主题    9210 non-null   object\n",
      " 3   留言时间    9210 non-null   object\n",
      " 4   留言详情    9210 non-null   object\n",
      " 5   一级标签    9210 non-null   object\n",
      " 6   留言内容    9210 non-null   object\n",
      "dtypes: int64(1), object(6)\n",
      "memory usage: 503.8+ KB\n"
     ]
    }
   ],
   "source": [
    "data.info()"
   ]
  },
  {
   "cell_type": "markdown",
   "id": "fd705afc",
   "metadata": {},
   "source": [
    "## 标签分布"
   ]
  },
  {
   "cell_type": "code",
   "execution_count": 6,
   "id": "926ce760",
   "metadata": {},
   "outputs": [
    {
     "data": {
      "text/plain": [
       "一级标签\n",
       "城乡建设       2009\n",
       "劳动和社会保障    1969\n",
       "教育文体       1589\n",
       "商贸旅游       1215\n",
       "环境保护        938\n",
       "卫生计生        877\n",
       "交通运输        613\n",
       "Name: count, dtype: int64"
      ]
     },
     "execution_count": 6,
     "metadata": {},
     "output_type": "execute_result"
    }
   ],
   "source": [
    "data['一级标签'].value_counts()"
   ]
  },
  {
   "cell_type": "code",
   "execution_count": 7,
   "id": "ffa07cbd",
   "metadata": {},
   "outputs": [
    {
     "data": {
      "text/plain": [
       "device(type='mps')"
      ]
     },
     "execution_count": 7,
     "metadata": {},
     "output_type": "execute_result"
    }
   ],
   "source": [
    "sns.set(style='whitegrid', palette='muted', font_scale=1.2)\n",
    "\n",
    "HAPPY_COLORS_PALETTE = [\"#01BEFE\", \"#FFDD00\", \"#FF7D00\", \"#FF006D\", \"#ADFF02\", \"#8F00FF\"]\n",
    "\n",
    "sns.set_palette(sns.color_palette(HAPPY_COLORS_PALETTE))\n",
    "\n",
    "rcParams['figure.figsize'] = 12, 8\n",
    "\n",
    "RANDOM_SEED = 42\n",
    "np.random.seed(RANDOM_SEED)\n",
    "torch.manual_seed(RANDOM_SEED)\n",
    "\n",
    "device = torch.device('mps' if torch.backends.mps.is_available() else 'cpu')\n",
    "device"
   ]
  },
  {
   "cell_type": "code",
   "execution_count": 8,
   "id": "b5b32d9a",
   "metadata": {},
   "outputs": [],
   "source": [
    "# 选择要保留的列\n",
    "columns_to_keep = ['留言内容', '一级标签']\n",
    "\n",
    "# 对分类的类别做映射\n",
    "unique_values = data['一级标签'].unique()\n",
    "\n",
    "# 创建映射关系字典\n",
    "mapping_dict = {value: index for index, value in enumerate(unique_values)}\n",
    "\n",
    "# 将列中的值替换为映射后的值\n",
    "data['一级标签'] = data['一级标签'].map(mapping_dict)\n",
    "data_new = data[columns_to_keep]\n",
    "\n",
    "# 划分数据集\n",
    "train, test = train_test_split(data_new, test_size=0.2, stratify=data_new['一级标签'], random_state=42)"
   ]
  },
  {
   "cell_type": "code",
   "execution_count": 9,
   "id": "f475e521",
   "metadata": {},
   "outputs": [
    {
     "name": "stdout",
     "output_type": "stream",
     "text": [
      "<class 'pandas.core.frame.DataFrame'>\n",
      "Index: 7368 entries, 340 to 557\n",
      "Data columns (total 2 columns):\n",
      " #   Column  Non-Null Count  Dtype \n",
      "---  ------  --------------  ----- \n",
      " 0   留言内容    7368 non-null   object\n",
      " 1   一级标签    7368 non-null   int64 \n",
      "dtypes: int64(1), object(1)\n",
      "memory usage: 172.7+ KB\n"
     ]
    }
   ],
   "source": [
    "train.info()"
   ]
  },
  {
   "cell_type": "code",
   "execution_count": 10,
   "id": "6485e8ae",
   "metadata": {},
   "outputs": [
    {
     "data": {
      "text/plain": [
       "340     0\n",
       "6256    4\n",
       "3622    3\n",
       "6725    4\n",
       "7215    5\n",
       "       ..\n",
       "5190    4\n",
       "8999    6\n",
       "8529    6\n",
       "4415    3\n",
       "557     0\n",
       "Name: 一级标签, Length: 7368, dtype: int64"
      ]
     },
     "execution_count": 10,
     "metadata": {},
     "output_type": "execute_result"
    }
   ],
   "source": [
    "train['一级标签']"
   ]
  },
  {
   "cell_type": "code",
   "execution_count": 11,
   "id": "e985d81b",
   "metadata": {},
   "outputs": [
    {
     "data": {
      "text/html": [
       "<div>\n",
       "<style scoped>\n",
       "    .dataframe tbody tr th:only-of-type {\n",
       "        vertical-align: middle;\n",
       "    }\n",
       "\n",
       "    .dataframe tbody tr th {\n",
       "        vertical-align: top;\n",
       "    }\n",
       "\n",
       "    .dataframe thead th {\n",
       "        text-align: right;\n",
       "    }\n",
       "</style>\n",
       "<table border=\"1\" class=\"dataframe\">\n",
       "  <thead>\n",
       "    <tr style=\"text-align: right;\">\n",
       "      <th></th>\n",
       "      <th>留言内容</th>\n",
       "      <th>一级标签</th>\n",
       "    </tr>\n",
       "  </thead>\n",
       "  <tbody>\n",
       "    <tr>\n",
       "      <th>340</th>\n",
       "      <td>咨询A3区西湖街道茶场村的规划问题 我是A3区西湖街道茶场村五组的村民。我们这个A3区山下名...</td>\n",
       "      <td>0</td>\n",
       "    </tr>\n",
       "    <tr>\n",
       "      <th>6256</th>\n",
       "      <td>请及时发放2015年监理工程师执业资格证 贺厅长:您好！我是马高飞，2015年通过了全国监理...</td>\n",
       "      <td>4</td>\n",
       "    </tr>\n",
       "    <tr>\n",
       "      <th>3622</th>\n",
       "      <td>A7县蒿塘中学的安全要如何保障？ 在2011年10月30日凌晨2:20分，A7县蒿塘中学的老...</td>\n",
       "      <td>3</td>\n",
       "    </tr>\n",
       "    <tr>\n",
       "      <th>6725</th>\n",
       "      <td>咨询L4县失业人员的社保补贴问题 我妻子失业后随我迁入L1区居住，戸口也迁入了L1区城北居委...</td>\n",
       "      <td>4</td>\n",
       "    </tr>\n",
       "    <tr>\n",
       "      <th>7215</th>\n",
       "      <td>建议开发A6区县洪山村洪山古庵为旅游景点 洪山村洪山古庵历史怒久，文化底蕴好，周边环境优美，...</td>\n",
       "      <td>5</td>\n",
       "    </tr>\n",
       "    <tr>\n",
       "      <th>...</th>\n",
       "      <td>...</td>\n",
       "      <td>...</td>\n",
       "    </tr>\n",
       "    <tr>\n",
       "      <th>5190</th>\n",
       "      <td>养老保险一次性要交近4万我们这些小职工如何承受 彭厅长：你好！我是一名集体单位的职工，92年...</td>\n",
       "      <td>4</td>\n",
       "    </tr>\n",
       "    <tr>\n",
       "      <th>8999</th>\n",
       "      <td>希望K市三医院办理特殊门诊的窗口可以增加 每天到K市三医院办理特殊门诊的患者有很多，明明有两...</td>\n",
       "      <td>6</td>\n",
       "    </tr>\n",
       "    <tr>\n",
       "      <th>8529</th>\n",
       "      <td>E7县鸭田镇计生办人员强行关押超生困难群众 2013年1月9日E7县鸭田镇计生办工作人员强行...</td>\n",
       "      <td>6</td>\n",
       "    </tr>\n",
       "    <tr>\n",
       "      <th>4415</th>\n",
       "      <td>揭露M3县十四中教育乱象 在国家三令五申减轻学生负担，不准乱收费，不准补课情况下，M3县十四...</td>\n",
       "      <td>3</td>\n",
       "    </tr>\n",
       "    <tr>\n",
       "      <th>557</th>\n",
       "      <td>我父因安全生产事故现在医院抢救，已全身瘫痪无钱救命 尊敬的王书记：您好！我父因帮人建房受重伤...</td>\n",
       "      <td>0</td>\n",
       "    </tr>\n",
       "  </tbody>\n",
       "</table>\n",
       "<p>7368 rows × 2 columns</p>\n",
       "</div>"
      ],
      "text/plain": [
       "                                                   留言内容  一级标签\n",
       "340   咨询A3区西湖街道茶场村的规划问题 我是A3区西湖街道茶场村五组的村民。我们这个A3区山下名...     0\n",
       "6256  请及时发放2015年监理工程师执业资格证 贺厅长:您好！我是马高飞，2015年通过了全国监理...     4\n",
       "3622  A7县蒿塘中学的安全要如何保障？ 在2011年10月30日凌晨2:20分，A7县蒿塘中学的老...     3\n",
       "6725  咨询L4县失业人员的社保补贴问题 我妻子失业后随我迁入L1区居住，戸口也迁入了L1区城北居委...     4\n",
       "7215  建议开发A6区县洪山村洪山古庵为旅游景点 洪山村洪山古庵历史怒久，文化底蕴好，周边环境优美，...     5\n",
       "...                                                 ...   ...\n",
       "5190  养老保险一次性要交近4万我们这些小职工如何承受 彭厅长：你好！我是一名集体单位的职工，92年...     4\n",
       "8999  希望K市三医院办理特殊门诊的窗口可以增加 每天到K市三医院办理特殊门诊的患者有很多，明明有两...     6\n",
       "8529  E7县鸭田镇计生办人员强行关押超生困难群众 2013年1月9日E7县鸭田镇计生办工作人员强行...     6\n",
       "4415  揭露M3县十四中教育乱象 在国家三令五申减轻学生负担，不准乱收费，不准补课情况下，M3县十四...     3\n",
       "557   我父因安全生产事故现在医院抢救，已全身瘫痪无钱救命 尊敬的王书记：您好！我父因帮人建房受重伤...     0\n",
       "\n",
       "[7368 rows x 2 columns]"
      ]
     },
     "execution_count": 11,
     "metadata": {},
     "output_type": "execute_result"
    }
   ],
   "source": [
    "train"
   ]
  },
  {
   "cell_type": "code",
   "execution_count": 12,
   "id": "02f1ed16",
   "metadata": {},
   "outputs": [],
   "source": [
    "element_counts = Counter(train['一级标签'])\n",
    "# 统计每个类别的样本数\n",
    "pinlv = [0,0,0,0,0,0,0]\n",
    "for element, count in element_counts.items():\n",
    "    pinlv[element] = count"
   ]
  },
  {
   "cell_type": "code",
   "execution_count": 13,
   "id": "37f898f2-e5c8-4620-81f1-cc5afffd478f",
   "metadata": {},
   "outputs": [
    {
     "data": {
      "text/plain": [
       "<BarContainer object of 7 artists>"
      ]
     },
     "execution_count": 13,
     "metadata": {},
     "output_type": "execute_result"
    },
    {
     "data": {
      "image/png": "[encoded data removed]",
      "text/plain": [
       "<Figure size 1200x800 with 1 Axes>"
      ]
     },
     "metadata": {},
     "output_type": "display_data"
    }
   ],
   "source": [
    "plt.rcParams['font.sans-serif'] = ['SimHei']  # 指定默认字体为中文宋体\n",
    "plt.rcParams['axes.unicode_minus'] = False\n",
    "plt.bar(['城乡建设','劳动和社会保障','教育文体 ','商贸旅游','环境保护 ','卫生计生','交通运输'], pinlv, color=['red', 'green', 'blue', 'orange', 'purple', 'cyan', 'pink'])"
   ]
  },
  {
   "cell_type": "markdown",
   "id": "edec6420-9e7d-4476-9b31-e47ee9a70619",
   "metadata": {},
   "source": [
    "### 文本长度分布"
   ]
  },
  {
   "cell_type": "code",
   "execution_count": 14,
   "id": "ef6248da-50a3-47a8-96ac-2bd5f4bbf406",
   "metadata": {},
   "outputs": [
    {
     "data": {
      "text/plain": [
       "count    7368.000000\n",
       "mean      415.183903\n",
       "std       491.025698\n",
       "min        23.000000\n",
       "25%       135.000000\n",
       "50%       236.000000\n",
       "75%       481.000000\n",
       "max      6125.000000\n",
       "Name: 文本长度, dtype: float64"
      ]
     },
     "execution_count": 14,
     "metadata": {},
     "output_type": "execute_result"
    }
   ],
   "source": [
    "train['文本长度']=train['留言内容'].map(len)\n",
    "train['文本长度'].describe()"
   ]
  },
  {
   "cell_type": "code",
   "execution_count": 15,
   "id": "0f21bcb6-a0d3-48fe-815c-1c68dc7d54ca",
   "metadata": {},
   "outputs": [
    {
     "data": {
      "text/plain": [
       "<Axes: ylabel='Density'>"
      ]
     },
     "execution_count": 15,
     "metadata": {},
     "output_type": "execute_result"
    },
    {
     "data": {
      "image/png": "[encoded data removed]",
      "text/plain": [
       "<Figure size 1200x800 with 1 Axes>"
      ]
     },
     "metadata": {},
     "output_type": "display_data"
    }
   ],
   "source": [
    "plt.rcParams['axes.unicode_minus'] = False\n",
    "train['文本长度'].plot(kind='kde')"
   ]
  },
  {
   "cell_type": "code",
   "execution_count": 16,
   "id": "865235ce-3216-4811-bae1-bb74d14343c9",
   "metadata": {},
   "outputs": [],
   "source": [
    "PRE_TRAINED_MODEL_NAME = 'bert-base-chinese'\n",
    "tokenizer = BertTokenizer.from_pretrained(PRE_TRAINED_MODEL_NAME)"
   ]
  },
  {
   "cell_type": "code",
   "execution_count": 17,
   "id": "7b3ec938-22ce-40f5-a091-80433a5196f7",
   "metadata": {},
   "outputs": [
    {
     "data": {
      "text/plain": [
       "BertTokenizer(name_or_path='bert-base-chinese', vocab_size=21128, model_max_length=512, is_fast=False, padding_side='right', truncation_side='right', special_tokens={'unk_token': '[UNK]', 'sep_token': '[SEP]', 'pad_token': '[PAD]', 'cls_token': '[CLS]', 'mask_token': '[MASK]'}, clean_up_tokenization_spaces=True),  added_tokens_decoder={\n",
       "\t0: AddedToken(\"[PAD]\", rstrip=False, lstrip=False, single_word=False, normalized=False, special=True),\n",
       "\t100: AddedToken(\"[UNK]\", rstrip=False, lstrip=False, single_word=False, normalized=False, special=True),\n",
       "\t101: AddedToken(\"[CLS]\", rstrip=False, lstrip=False, single_word=False, normalized=False, special=True),\n",
       "\t102: AddedToken(\"[SEP]\", rstrip=False, lstrip=False, single_word=False, normalized=False, special=True),\n",
       "\t103: AddedToken(\"[MASK]\", rstrip=False, lstrip=False, single_word=False, normalized=False, special=True),\n",
       "}"
      ]
     },
     "execution_count": 17,
     "metadata": {},
     "output_type": "execute_result"
    }
   ],
   "source": [
    "tokenizer"
   ]
  },
  {
   "cell_type": "markdown",
   "id": "629a8aaf-1294-4247-a72d-e0cf9ad0f01a",
   "metadata": {},
   "source": [
    "### 使用BertTokenizer分词"
   ]
  },
  {
   "cell_type": "code",
   "execution_count": 20,
   "id": "0881f012-ee4c-4dd4-aa5b-7ab6f83d4453",
   "metadata": {},
   "outputs": [
    {
     "name": "stderr",
     "output_type": "stream",
     "text": [
      "Truncation was not explicitly activated but `max_length` is provided a specific value, please use `truncation=True` to explicitly truncate examples to max length. Defaulting to 'longest_first' truncation strategy. If you encode pairs of sequences (GLUE-style) with the tokenizer you can select this strategy more precisely by providing a specific strategy to `truncation`.\n"
     ]
    },
    {
     "data": {
      "text/plain": [
       "dict_keys(['input_ids', 'token_type_ids', 'attention_mask'])"
      ]
     },
     "execution_count": 20,
     "metadata": {},
     "output_type": "execute_result"
    }
   ],
   "source": [
    "encoding=tokenizer.encode_plus(\n",
    "    #返回所有编码特征\n",
    "    sample_txt,\n",
    "    max_length=128,\n",
    "    add_special_tokens=True,# [CLS]和[SEP]\n",
    "    return_token_type_ids=True, \n",
    "    pad_to_max_length=True, \n",
    "    return_attention_mask=True,\n",
    "    return_tensors='pt',# Pytorch tensor张量\n",
    "\n",
    ")\n",
    "encoding.keys()"
   ]
  },
  {
   "cell_type": "code",
   "execution_count": 21,
   "id": "14458aad-d7de-43a6-b361-28e4435845b8",
   "metadata": {},
   "outputs": [
    {
     "data": {
      "text/plain": [
       "{'input_ids': tensor([[ 101,  791, 1921, 3193,  677,  130, 4157, 1288, 6629, 2414, 8024, 2769,\n",
       "         1762, 2110,  739, 7564, 6378, 5298, 3563, 1798, 4638,  886, 4500,  119,\n",
       "          102,    0,    0,    0,    0,    0,    0,    0,    0,    0,    0,    0,\n",
       "            0,    0,    0,    0,    0,    0,    0,    0,    0,    0,    0,    0,\n",
       "            0,    0,    0,    0,    0,    0,    0,    0,    0,    0,    0,    0,\n",
       "            0,    0,    0,    0,    0,    0,    0,    0,    0,    0,    0,    0,\n",
       "            0,    0,    0,    0,    0,    0,    0,    0,    0,    0,    0,    0,\n",
       "            0,    0,    0,    0,    0,    0,    0,    0,    0,    0,    0,    0,\n",
       "            0,    0,    0,    0,    0,    0,    0,    0,    0,    0,    0,    0,\n",
       "            0,    0,    0,    0,    0,    0,    0,    0,    0,    0,    0,    0,\n",
       "            0,    0,    0,    0,    0,    0,    0,    0]]), 'token_type_ids': tensor([[0, 0, 0, 0, 0, 0, 0, 0, 0, 0, 0, 0, 0, 0, 0, 0, 0, 0, 0, 0, 0, 0, 0, 0,\n",
       "         0, 0, 0, 0, 0, 0, 0, 0, 0, 0, 0, 0, 0, 0, 0, 0, 0, 0, 0, 0, 0, 0, 0, 0,\n",
       "         0, 0, 0, 0, 0, 0, 0, 0, 0, 0, 0, 0, 0, 0, 0, 0, 0, 0, 0, 0, 0, 0, 0, 0,\n",
       "         0, 0, 0, 0, 0, 0, 0, 0, 0, 0, 0, 0, 0, 0, 0, 0, 0, 0, 0, 0, 0, 0, 0, 0,\n",
       "         0, 0, 0, 0, 0, 0, 0, 0, 0, 0, 0, 0, 0, 0, 0, 0, 0, 0, 0, 0, 0, 0, 0, 0,\n",
       "         0, 0, 0, 0, 0, 0, 0, 0]]), 'attention_mask': tensor([[1, 1, 1, 1, 1, 1, 1, 1, 1, 1, 1, 1, 1, 1, 1, 1, 1, 1, 1, 1, 1, 1, 1, 1,\n",
       "         1, 0, 0, 0, 0, 0, 0, 0, 0, 0, 0, 0, 0, 0, 0, 0, 0, 0, 0, 0, 0, 0, 0, 0,\n",
       "         0, 0, 0, 0, 0, 0, 0, 0, 0, 0, 0, 0, 0, 0, 0, 0, 0, 0, 0, 0, 0, 0, 0, 0,\n",
       "         0, 0, 0, 0, 0, 0, 0, 0, 0, 0, 0, 0, 0, 0, 0, 0, 0, 0, 0, 0, 0, 0, 0, 0,\n",
       "         0, 0, 0, 0, 0, 0, 0, 0, 0, 0, 0, 0, 0, 0, 0, 0, 0, 0, 0, 0, 0, 0, 0, 0,\n",
       "         0, 0, 0, 0, 0, 0, 0, 0]])}"
      ]
     },
     "execution_count": 21,
     "metadata": {},
     "output_type": "execute_result"
    }
   ],
   "source": [
    "encoding"
   ]
  },
  {
   "cell_type": "code",
   "execution_count": 22,
   "id": "ea180294-cb11-44df-8e07-a547697de51d",
   "metadata": {},
   "outputs": [],
   "source": [
    "MAX_LEN = 128"
   ]
  },
  {
   "cell_type": "markdown",
   "id": "15fe9592-864e-40cf-b516-6c7473ea7d20",
   "metadata": {},
   "source": [
    "### 构建数据集"
   ]
  },
  {
   "cell_type": "code",
   "execution_count": 23,
   "id": "8d9f58b9-d406-4dbb-8099-23db7d779067",
   "metadata": {},
   "outputs": [],
   "source": [
    "class EnterpriseDataset(Dataset):\n",
    "    def __init__(self,texts,labels,tokenizer,max_len):\n",
    "        self.texts=texts\n",
    "        self.labels=labels\n",
    "        self.tokenizer=tokenizer\n",
    "        self.max_len=max_len\n",
    "    def __len__(self):\n",
    "        return len(self.texts)\n",
    "    \n",
    "    def __getitem__(self,item):\n",
    "        \"\"\"\n",
    "        item 为数据索引，迭代取第item条数据\n",
    "        \"\"\"\n",
    "        text=str(self.texts[item])\n",
    "        label=self.labels[item]\n",
    "        \n",
    "        encoding=self.tokenizer.encode_plus(\n",
    "            text,\n",
    "            add_special_tokens=True,\n",
    "            max_length=self.max_len,\n",
    "            return_token_type_ids=True,\n",
    "            pad_to_max_length=True,\n",
    "            return_attention_mask=True,\n",
    "            return_tensors='pt',\n",
    "        )\n",
    "        \n",
    "        #print(encoding['input_ids'])\n",
    "        return {\n",
    "            'texts':text,\n",
    "            'input_ids':encoding['input_ids'].flatten(),\n",
    "            'attention_mask':encoding['attention_mask'].flatten(),\n",
    "            'labels':torch.tensor(label,dtype=torch.long)\n",
    "        }"
   ]
  },
  {
   "cell_type": "markdown",
   "id": "cdf86132-472c-496e-8c21-9c9735c64c76",
   "metadata": {},
   "source": [
    "### 划分数据集并创建生成器"
   ]
  },
  {
   "cell_type": "code",
   "execution_count": 24,
   "id": "a90fdd8f-672a-40ff-b5e3-103a5ac42e9f",
   "metadata": {},
   "outputs": [
    {
     "data": {
      "text/plain": [
       "((6631, 3), (368, 3), (369, 3))"
      ]
     },
     "execution_count": 24,
     "metadata": {},
     "output_type": "execute_result"
    }
   ],
   "source": [
    "df_train, df_test = train_test_split(train, test_size=0.1, random_state=RANDOM_SEED)\n",
    "df_val, df_test = train_test_split(df_test, test_size=0.5, random_state=RANDOM_SEED)\n",
    "df_train.shape, df_val.shape, df_test.shape"
   ]
  },
  {
   "cell_type": "code",
   "execution_count": 25,
   "id": "0a9d9651-81e4-4e6e-be5e-ccb719a39503",
   "metadata": {},
   "outputs": [],
   "source": [
    "def create_data_loader(df,tokenizer,max_len,batch_size):\n",
    "    ds=EnterpriseDataset(\n",
    "        texts=df['留言内容'].values,\n",
    "        labels=df['一级标签'].values,\n",
    "        tokenizer=tokenizer,\n",
    "        max_len=max_len\n",
    "    )\n",
    "    \n",
    "    return DataLoader(\n",
    "        ds,\n",
    "        batch_size=batch_size,\n",
    "    )"
   ]
  },
  {
   "cell_type": "code",
   "execution_count": 26,
   "id": "7861f7af-75a9-428b-97ad-cd15b0a860d2",
   "metadata": {},
   "outputs": [],
   "source": [
    "BATCH_SIZE = 24\n",
    "\n",
    "train_data_loader = create_data_loader(df_train, tokenizer, MAX_LEN, BATCH_SIZE)\n",
    "val_data_loader = create_data_loader(df_val, tokenizer, MAX_LEN, BATCH_SIZE)\n",
    "test_data_loader = create_data_loader(df_test, tokenizer, MAX_LEN, BATCH_SIZE)"
   ]
  },
  {
   "cell_type": "markdown",
   "id": "9982aa09-2056-4e5f-a116-787f6c14a4f7",
   "metadata": {},
   "source": [
    "### loader展示"
   ]
  },
  {
   "cell_type": "code",
   "execution_count": 27,
   "id": "6ae7a375-37b1-4284-9d81-5a99f5cce775",
   "metadata": {},
   "outputs": [
    {
     "data": {
      "text/plain": [
       "{'texts': ['在M市入了医保到A市爱尔眼科医院做手术后回去报不了？ 我是以个患眼科病比较罕见的别人，到全省多家大医院做了检查都没有找到比较好的治疗方案，但是经过朋友介绍到A市爱尔眼科医院找到了全国比较有名的教授，也找到了比较好的治疗方案，但是到M市医保局一问，A市爱尔眼科的医药费报不了。我不知道为什么，我问了下A市爱尔，他们那里，E市，G市，L市等地的都可以报，只有我们M市的不可以报，我不知道什么原因，我入了那么多年的医保为什么到一家那么大的医院做手术不能报销，而且整个西地省只有M市不能报销，所以想请M市医保局的领导帮我们做做好事别让我们正常的有医保的没有地方可以报。谢谢！',\n",
       "  'B市高中学籍挂靠招生骗局何时休 我小孩今年初中毕业，报考B市十八中美术生，考试成绩没有达到学校录取线，我老婆的同时介绍说，只要花点钱找人可以录取并推荐了联系人王坤（社会无业人员，，株化生活区1区20栋305），我们根据王坤的要求第一时间给了他4.5万元，他承诺一周之内答复。一周后，我们联系他，他说等补录。补录时间过去了也没有录取消息，我们再次联系他，他说已经录取了，叫我们吃个定心丸，八月初直接带我们去学校报到。八月份到了，他又说现在放暑假，没人上班，等开学再去报到。等到开学8月29日，他来电话说带我们先去潇楚实验中学（民办学校）报到，办理注册手续，学籍暂时挂在民办学校，然后再去十八中报到，一学期后学籍再转让十八中。此时，我彻底放弃幻想，这是完全是个骗局。因为错失公办学校录取时间，本来我小孩被B市工业学校普职融通班录取的，结果选择放弃，只能赶紧联系外地比较好的民办学校，给小孩办理入学手续，让他安心学习。安排好小孩之后，我第一时间来到十八中，找到杨电波校长反应情况。杨校长听完我的反应后，说的第一句话竟然是：“以前听说有人花多少进我们学校，我不信，今天听你这么一说，我相信了，我感到很自豪。”我问他学校有没有这种学籍挂靠在民办学校在18中寄读的学生，他说有少数特殊关系的几个学生存在这种情况。尔后敷衍几句，把我打发走了。接下来我向片区督导林喜元和B市驻教育局纪委反应，均没有什么处理结果。据我侧面了解，B市内公办高中几乎都存在这种学籍挂靠寄读生，这说明B市存在一个利用学籍挂靠实施虚假招生承诺的诈骗团伙，王坤自己介绍每年通过他们这种方式解决很多小孩的学习问题。根据西地省中小学学籍管理制度和B市中小学招生政策是严禁人籍分离。希望B市教育行政部门严查这种利用学籍挂靠寄读方式内外勾结实施欺诈行为，彻底取缔学籍挂靠寄读，还教育一片净土。',\n",
       "  'L5县发往两丫坪方向的客运车儿童乘车都收全票！ L5县发往两丫坪方向的客运车按人头收费问题，不管小孩婴儿都收全票，请问有法律依据吗？',\n",
       "  '举报I6市教育局公共租赁住房招标违规事宜 我是西地省I市I6市的一个小市民，多年从事建筑施工工作，最近在西地省招标投标监管网发现一条I6市教育局公共租赁住房建设项目招标公告，招标公告中提到采用的评标方法为楚建建[2013]282号文件中“综合评估法（Ⅱ）”，而根据招标公告内招标项目大小及施工难易程度与楚建建[2013]282号文件中附表一综合评估法（Ⅱ）采用范围对比，存在条件不符的地方；1、该招标公告中所有招标的三个标段的工程造价、建筑面积、建筑高度和建筑层数与综合评估法（Ⅱ）采用范围中的“二级及以上施工资质才能承担的工程”不符，根据2015年住房与城乡建设部制定颁布的《建筑业企业资质标准》中建筑工程施工总承包企业承包范围条例，该招标公告中所有招标的三个标段的工程造价、建筑面积、建筑高度和建筑层数同样满足三级施工资质承包范围；2、该招标公告中所有招标的三个标段中的所有单体工程均为普通的学校公共租赁住房，建筑层数少，建筑面积小，工程造价小，结构简单，施工难度小，并不存在工程复杂、技术难度大和专业性较强等因素，与综合评估法（Ⅱ）采用范围中的“工程复杂、技术难度大和专业性较强的工程”不符。其中综合评估法（Ⅱ）还有需建设单位与评审组共同评分这一特殊因素，而综合评估法（Ⅰ）则全权通过评审组评分即可。根据以上两大疑点，本人有理由认为该I6市教育局公共租赁住房建设项目招标行为存在违规操作、故意设卡、便于以后暗箱操作的嫌疑；鉴于楚建建[2013]282号文件综合评估法（Ⅱ）的采用范围并不适用于该招标公告中所有参与招标的建设项目，而发包人I6市教育局在明知违规的前提下仍旧采用不适用该招标项目的评标办法，是否是受人指使或存在利益交易，教育局作为国家教育行业的监管管理部门，更应做到公平、公正、公开，竟在今天，还敢如此顶风违纪，目无法规，与党规党章背道而驰、徇私舞弊、以权谋私、害国害民。在此，本人愿意以实名制举报I6市教育局，望西地省纪律检查委员会着实调查，还I6市教育系统一片净土，还I6市民一个公道！此致敬礼！举报人：李辉光2015年9月30日',\n",
       "  '请求解决D9县城管大队新塘中队在编工作人员的工作补贴 厅长您好：我们是D市D9县城管大队新塘中队在编的工作人员,2012年D9县编办下文成立新塘城管中队的文件,文件规定;城管中队实行“双重管理,以条为主”的管理体制,其管理.人员编制以县住建局为主,日常工作以所属镇政府负责,考核是双重考核.现在县人社局已经开始对乡镇工作的人员在填报补贴表,我们得知消息后找到县人社局分管工资的领导并拿出县编办的文件给他看,分管工资的领导说我们不能享受补贴,只有乡镇工作人员和七站八所的人员才能享受,我们又找了人社局局长,他说现在是第一批要我们等第二批.这我们就有点迷惑了,省人社厅文件明确规定在乡镇工作的人员就可以享受乡镇补贴,难K6县编办下的文件还不能作数吗?请求上级领导百忙中给我们指点.谢谢！',\n",
       "  'L5县改制办回复令煤炭系统一千七百多下岗工人心寒 我是西地省L5县均坪煤下岗工人。‘’我县煤炭系统国有企业的改制工作于2014年11月全面启动‘’。L5县改革工作方案于2014年5月14号下发，县煤炭局改制办随即成立，到目前为止，没有任何经职工大会通过的，公开、透明的改制文字方案。‘’由于楚政办发（2013）60号文件规定的执行载止时间为2015年12月31号，加之在2014年12月31号前完成挂账‘’试问；楚政办发（2013）60号文《关于市、州、县国有企业关闭、破产养老保险有关问题的通知》中：为支持市、州、县属国有企业改革，维护企业职工权益，根据国家和省相关政策，结合地方国有企业的改革实际情况，经省人民政府同意，现就市、州、县国有企业关闭、破产养老保险有关问题通知如下；试问，这是改制文件吗？与改制有直接关联吗？‘’为了既能给职工办实事、办好事，又能减轻县财政负担‘’试问；强迫职工缴清个人部分养老金后，解除劳动合同这是为职工办实事吗？2007年后，职工先后代单位应缴的为什么只字不提退还，拖欠职工的工资，抚恤人员抚恤费，职业病检查等只字不提，职工下岗近二十余年的国家补帖，改制按国家政策安置费，按《劳动法》解除劳动合同经济补偿全无，这也是为职工办实惠？造假、伪签职工名，‘自愿放弃安置和经济补偿’在上报省材料中到清清楚楚。‘’时间极为紧迫，由于煤炭系统职工分散在全国各地，短时间无法召集‘’试问；通知了吗？为什么被蒙骗的职工为了积极配合单位改制，与2015年10月左右，在短短一个月内，各矿先后依法召开了合符法定人数的职工大会并选举了职工代表。‘’为确保煤炭系统全体职工及时享受优惠政策‘’。试问；职工享了什么？80%、20%是职工个人行为吗？与职工有关系吗？与下岗、失业，改制、解除劳动关系有关系吗？‘’我县煤炭系统所属国有企业的改制工作自始至终都是开公、透明的‘’‘’所有重大事项和决策均通过集体研究决定‘’试问；广大职工知情吗？召开过职工大会和职工代表大会吗？这个集体代表谁？有职工代表吗？为什么要伪造广大职工签名，这么严重侵权违法行为，难道你集体不懂法？L5县造假相关部门及人员，不要强词夺理了，你们敢面对上千职工和上级领导的问责吗？越掩饰，最后问题越严重，天是遮不住的。',\n",
       "  'J市第一人民医院拿病人作试验品 请求还我一个公道，以慰家父在天之灵父亲是山，顶天立地。当大家在享受父爱的温暖与伟岸时，享受一家老小其乐融融的幸福时，我的天却塌了——我最爱的父亲永远的离开了我们。在进行心脏支架手术“成功”后第六天即将出院时突然离世，在全家倾家荡产花费30余万元治疗费后突然撒手人寰。而面对家属的质疑，作为院方的J市第一人民医院竟无一人领导出面解释甚至置之不理。事情还得从这说起。家父肖贤美，男，1942年7月15日出生，J6县人。2017年6月24日，因心脏病住入J市第一人民医院（中心院）心血管科，遵院方安排于7月7日由毛先军医生主刀做了第一次右心房支架手术，花费五万余元。之后院方称，由于该医院技术受限，左心房还有一根血管需请专家主刀才能确保万无一失，于是在医院诱导之下于7月21日，由专家主刀进行第二次手术，并在未经得家属同意之下，拿病人作试验品进行现场作业和学术交流（之后得知），时间长达7个多小时，单此次手术费就花了18万。7月25日接医院通知称病人恢复良好，并安排27日出院。谁知当病人8点多钟吃完早餐收好东西，与病友们谈笑风生满怀信心高高兴兴等孩儿们专车接出院时，而突然发病，竟然于当天（7月27日）14:40死于重症监护室。事后院方领导无一人出面解释和安慰，却只顾采取非常手段强迫家属限时把遗体移走。现在患方无奈被迫下己办好院方提出的所有事宜后，来找院方讨个说法时，却无人理睬了。苍天呐，家属为医治病人共花费30余万元，几近倾家荡产，目前人财两空。',\n",
       "  '西地省邮政快递太慢，7号发出的鲜果现在还在A市中心 中国邮政太慢了，7号从J5县寄出的东西，9号到A市，然后就没有物流信息更新了。真是让人怀疑东西是不是被截留了还是被拿了。放了这么多天，鲜果变干果吗？',\n",
       "  'B市村医养老问题还未解决 陈书记：你好！我是B9市的村医，我们年纪已有点大了，因卫生局对村卫生室还不给予新农合报销，又不解决我们的养老保险问题。请陈书记在支持B市公立医院医改的同时，为我们村医尽量解决一些实际生存问题。我们将不胜感激！同时请陈书记帮忙督促卫生局解决！谢谢！',\n",
       "  'I市桥北广场一摊贩乱丢大量甘蔗垃圾 I市I1区马良社区无业人员陈某在I市桥北广场乱设摊位，把大量甘蔗垃圾乱丢于天成市场前门，严重影响市容。根据《西地省实施（城市市容和环境卫生管理条例)办法》，请予以处罚。',\n",
       "  'C4市龙洞镇楠香村村支书当选人违法超生 尊敬的政府领导：自C4市（居）“两委”换届选举工作安排部署以来，为了确保选出群众满意的村干部，得到政府领导高度重视和村民的高度关注。C4市将进一步严把标准关，切实践行省委“八严禁”“九不选”纪律规定，认真开展村级财务清理工作，严肃查处违纪违法行为，确保村（居）“两委”换届工作平稳有序的开展。C4市龙洞镇楠香村在政府的领导下已经完成了本次换届选举，在选举没有召开村民会议及选举村民代表的情况下，选举党员李方志为楠香村党支部书记。在2005年李方志同志违法计划生育基本国策，违法超生了第三个孩子，严重违法了计划生育基本国策，作为一个连基本国策都可以违反的人，为什么还能作为候选人进入选举，还能够当选？根据法律文件，李方志同志严重违法了计划生育基本国策。恳请政府领导秉着公平、公正调查李方志同志，给村民一个答复，使村（居）“两委”换届依法依规进行，选出真正让群众满意的村干部。',\n",
       "  'A市小学护窗和楼梯安全问题得重视 小学一至六年级教室一律要安护窗,楼梯护杆要通到上一层,不设扶手,让小孩无法在扶手上溜滑玩耍,小孩在楼梯上推耍容易出事,楼梯一律铺地毯,阳台护栏要高于一点五米,成人都不守交通规则,五ー大道中心护栏撒了后,出了不少交通事故,小孩靠教育不解决问题.',\n",
       "  '举报I3县环保局执法不力及I3县新耀沥青路面工程公司污染环境 杨局：位于I3县三仙湖镇下柴市街道附近的I3县新耀沥青路面工程有限公司，经常在白天和黑夜排放大量浓烈的带有刺激性气味的黑烟，严重污染空气，疑为有毒害烟尘（冒烟时附近居民均感鼻喉严重不适，特别是老人和小孩），该厂1000米距离内有6个村民小组，有一所初级中学、有下柴市街道、有一所小学,总人口约为6000人，影响极为严重和恶劣。为此，我们附近住户联名投诉I3县新耀沥青路面工程有限公司1、排放有毒害污染浓烟产生粉尘,经了解，I3县新耀沥青路面工程有限公司生产排出的烟尘含大量的二氧化硫(so2),易被湿润的粘膜表面吸收生成亚硫酸、硫酸。对眼及呼吸道粘膜有强烈的刺激作用。沥青烟和粉尘可经呼吸道和污染皮肤而引起中毒，发生皮炎、视力模糊、眼结膜炎、胸闷、腹病、心悸、头痛等症状。经科学试验证明，沥青和沥青烟中所含的3，4苯并芘是世界公认的一种高致癌物质，对环境会造成严重污染。沥青搅拌站的存在显然与周边环境格格不入,粉尘对大气造成严重污染。2、生产噪音极大，严重扰民。工厂噪音问题严重影响附近居民正常生活和休息。大多居民夜间根本无法入眠，噪音和震动使人烦躁难忍，威胁着居民的身心健康，（特别是老人，儿童及一些应届考试的学生。）根据《大气污染防治法》和《制定地方大气污染物排放标准的技术方法》这样的企业绝对不能建造的离居住区及学校那么近。经确认，I3县新耀沥青路面工程有限公司无环评批复、无环境突发事故应急预案、无第三方环境监测报告、无安全生产许可证等属于违法生产。I3县环保局0000-00000000根本无人接听，5月15日我一天都在打这个电话，请追责I3县环保局执法不力！谢谢',\n",
       "  '在A市马王堆陶瓷市场购买的萨米特瓷砖数月就开始严重变形 萨米特瓷砖售后差，我去年11月份，在A市马王堆陶瓷市场（西地省年佳建材公司门店）买了近万元的萨米特瓷砖，保留有票据，才几个月时间，卫生间一面墙上就有许多瓷砖变形，鼓起来了，另一面墙上瓷砖则开裂。我多次打电话向经销商和厂家反映,他们来了几批次人,看了,说会帮我处理好此事。可是，过去几个月了，还是不见动静,特到平台投诉!',\n",
       "  'K市K1区外骨科医院误诊发生医疗事故，受害者家属申请赔偿 尊敬的各位领导：您们好！我是李斌，是受害者李某睿的父亲。现就我儿李某睿因医院误诊并错误治疗，导致我儿右手肘内翻一事，详述医院就诊治疗过程，并申请有关部门给予我们公道。2018年2月3日那天，我儿李某睿在玩耍时不慎从板凳上摔下来。当时他直喊手疼，我们便马上赶到K市K1区外骨科医院就诊。在医院拍片后，医生诊断说没问题，只开了副中药敷在手肘关节处及绑纱布，说这药敷7天再过来复诊。我们谨遵医嘱，直到第七天，李某睿的手还是喊疼，于2018年2月10日，我们又再次来到K市K1区外骨科医院复诊。再次拍片后，医生诊断仍说没问题，胸有成竹地说小孩可能是摔跤吓到了，不疼也说疼，依旧跟上次一样，敷了中药绑纱布。并告诉我们，这副中药敷5-7天就可以拆掉没事了。我们相信医生，但直到又过了7天，他还一直喊疼，寝食难安。手还是不能弯曲不能动，像断了一样，一点好转的迹象都没有。我们慌了，便立马赶到K市中心医院就诊。拍片后，医生诊断为右手肱骨骨折（骨痂形成），并且医生还看了我们在K市K1区外骨科医院的拍片，说片子都拍出来有问题，医生没看出来。建议我们到省儿童医院就诊。当天我们便坐车赶到了西地省儿童医院。省儿童医院的医生看了片子，诊断结果与K市中心医院的诊断一致，并且再次核实K市K1区外骨科医院误诊并错误治疗一事。医生确定并肯定地告诉我们，K市K1区外骨科医院的片子都拍出有问题，医生都没看出来，诊断错误，并且治疗处理方式也不当，导致我小孩右手肱骨骨折（骨痂形成），已错过最佳治疗期（两次诊断治疗，从诊断到治疗共耽误14天），需要后期手术治疗。截止目前为止，我儿子已连续几次前往西地省儿童医院骨科专家门诊看诊，骨科专家已确诊为右手肘内翻，必须做手术治疗。可怜我才2岁多的儿子，这么小就要承受做手术的痛苦和风险。K市K1区外骨科医院的误诊及错误治疗，导致我们全家长期以来，因为此事，耗费大量财力物力人力，寢不安席，食不甘味，承受着巨大的心理和精神压力以及财务压力，给我们造成了严重的身心损害和财物损伤，现要求K市K1区外骨科医院赔偿我们因此事而付出的费用合计85500元，费用明细如下：1.手术前拍片确诊费用1600元，交通费2000元，住宿费600元，误工费5000元，精神损害抚慰金3000元；2.后续去医院做手术治疗交通费800元，误工费5000元，手术治疗费60000元，陪护费3000元，住院伙食补助1500元，营养费3000元；在此恳请各位领导，就K市K1区外骨科医院误诊及错误治疗一事，对他们这种误人害人的行为做出公平的决断，还朗朗乾坤一片晴天，还我们一个公道！不胜感激！！！在此谢过。感激涕零！！！申请人：李斌(受害者父亲）联系电话：年12月14日',\n",
       "  '尽快完善A市星沙大道沿线垃圾桶的设置 自去年底完成星沙大道两厢绿化提质改造以来，环境确实大有改善，但仍有不令人满意之处，例如从开元路至滨湖路段的垃圾桶设置就很少，东侧基本没有，半年过去啦不知是何缘故？另外对沿线破坏的绿化带要认真调查原因，该恢复的补种，需更改的更改为地板，如K9县郡大门前，一切以人为本，合理性设计。',\n",
       "  'L7县县日化厂棚户区改造问题的咨询 我是西地省L7县县日化厂下岗职工，听说日化厂搞棚户区改造，我想问几个问题。1，L7县县铜矿棚户区改造只要1100多元每平米，而日化厂搞棚户区改造为什么要1700元每平米。2，在没有办理审批情况下强行要我们交钱，我们不见建房许可证和规划许可证不敢交钱，不交钱我们无权享受棚户区改造。3，在没有办理审批情况下私自动工开始建房是否合法？4，我们日化厂下岗职工不交钱就没有房，而不是日化厂职工交了钱可以享受棚户区改造，有房。5，1700元＝征地300元每平米建房子900元每平米税金300元每平米拉关系不可预计费150元每平米办房产证50元每平米。这样收费和运作符合棚户区改造吗？？？？？',\n",
       "  'J6县中医院强制加班才给职工发克扣的工资 J6县中医院强行克扣职工工资，要求职工休息时间加班工作才发克扣部分，请问这合法吗？应该向哪里投诉？',\n",
       "  '关于K2区曲河街道办事处逸云社区二房组拆迁征收政资金去向一事 K市K2区曲河街道办事处逸云社区二房组于2016年3月政府列为拆迁，如今房屋没有经过同意签字就拆迁而且有好几户都没有，被政府强行拆迁而且又没有房屋拆迁款，按国务院文件房屋个人财产必须经过当事人签字同意即可拆迁，而且又不能享有房屋补贴等，这些补贴资金去向不明，多次向信访单位及政府反映都没有处理，请K市长及省领导帮老百姓调查好事件。谢谢',\n",
       "  'F市八港村的废塑料加工厂应该归谁来管？ 三个月前，有人在屈原行政区八港村办了一个废塑料回收加工厂，把收购的废旧塑料就地清洗，加热造粒，制造再生塑料原料。几个月来，村里污水长流，气味刺鼻，老百姓正常生活备受影响，怨声不已。村民们多次打F市环保局监督电话，希望环保部门出面制止。但一直没有回应。无奈之中将电话打到局长您那里，您说派人下来调查，可时间已经过去数月，人影都不见一个。后来不得不上访至屈原行政区有关部门，同时找到F市环保局屈原行环保分局领导，所得到的回复是：政府部门要我们找环保局，环保局局长陈度怀去要我们找当地政府解决。原环保局熊局长现在是书记，估计也不可能对此事作出什么举措。既然违规塑料再生厂给来环境带来破坏，也严重伤害老百姓健康，为什么市环保局不管，李局长不管，陈局长不管，地方政府不管，难道叫老百姓直接去找市长解决？请您在百忙之中，关注此事的发展。不要到了事态不可收拾的地步，影响政府的形象，影响您的声誉。老实农民盼望您的回复。',\n",
       "  'B9市120多元的所谓教辅书压得学生和家长抬不起头 尊敬的局长：你好！我们B9市的小学生的书包不但没有减肥，反而越来越沉了，一些什么乱七八糟的教辅书多的让小学生背不起了，问学校说是教育局订的，原来国家没有减免教科书时的书籍费还只有6到70元，现在光教辅书就多达120多元，还有什么月刊都是强行发下来，这些书又贵，难道就是为了得到新华书店的回扣，就不管学生的学习负担和身体负担了吗？恳求局长大人在百忙之中管一管，这些乱摊派，乱订资料，严重加重学生和家长负担的腐派行为。',\n",
       "  '请切实解决K7县桃川医院门诊大楼的问题 张厅长：你好！我是K7县桃川医院院长王念文，我是今年3月到桃川的，接手的时候医院欠了200多万的债务，工资没有保障，经费，人员严重不足，问题最大的是我们的门诊大楼，已经是危房。就是在这种艰苦的环境下，经过我们全体干部职工共同努力，今年的收入预计达到400多万（去年140万），这半年来我们用我们的收入添置了彩超，CR，全自动生化,开支了40多万的基础建设，还偿还20万债务。可是我们的门诊大楼我真的是力不从心，现在我听说可以报项目，可是一个我们这样大的乡镇（人口5万，辐射10万），100万肯定是不够的（听说大小一样），希望领导考虑能不能把几个医院的项目集中在一起，分需要年度建设，也可以多给一点重要的乡镇，谢谢',\n",
       "  'K市购房补贴何时发放？ 本人于2017年5月，在K2区金盘世界城购房一套，根据当时市政府文件，凡在K市中心城区购房，享受购房契税、农补补贴，所有资料已经相关部门审核通过，至今没有收到任何补贴费用，难道是新官不理旧账了吗？请问相关部门何时发放相关购房补贴？谢谢！',\n",
       "  'E5县高滋村违法直销欺骗老人 E市E5县高滋村高滋村在十月十几号进来一批涉嫌违法直销商做直销宣传赠送小东西，当时有人在村群发布有骗子进村消息，村辅警小周在群里回复说是经过村里书记同意的，他已经拍照备案了，有人受骗联系他。我们在外的年轻人本着相信派出所的前提下只是打电话提醒家中老人不要上当。相类似的团队也有到兴东村进行赠送礼品，兴东村书记及时制止并赶走了他们。高滋进行的销售中也有一部分临近高滋村的兴东村民参与其中，兴东村书记对自己村村民进行劝解连续几天三次联系高滋村书记汤阳隆要求其把人赶走，汤阳隆反应淡淡不了了之，22号兴东村石中秋书记又打了电话给肖民自书记和曾会计当天肖书记和曾会计他们到现在对村民进行过劝说但并没有把直销商赶走。以至于现在家里多名留守老人上当受骗，其销售模式已经涉嫌违法，就我知道家中几位老人的受骗金额加起来就已经几万了，估计被骗金额最少有十万以上。知道家里老人上当受骗后我第一时间联系了辅警小周，小周回复我说要我跟村里书记去了解情况，这就是明显的相互推诿。村群里有人要求小周把那伙销售人员的联系方式和车牌发出来想通过网络把他们找出来退货，小周只是反复说那伙直销商经过村里同意和占坪屋主同意的他也没有办法。村里书记和辅警就这么眼睁睁看着村民的钱进了涉嫌违法商的口袋，试问这类村官可否还胜任啊？今天上午我打了派出所的袁所长的电话报警，袁所长回复我要我走程序找工商报案，我问我村辅警可否跟所里如实上报情况，袁所回复我说他没有理由回复我。这就是我了解的全部事实。目前家中买了的老人大多数还不敢做声，怕年轻人指责。试问这类书记，辅警可否称职？希望相关部门监管一下！'],\n",
       " 'input_ids': tensor([[ 101, 1762,  100,  ..., 4263, 2209,  102],\n",
       "         [ 101,  100, 2356,  ..., 2824, 6437,  102],\n",
       "         [ 101,  100, 1344,  ...,    0,    0,    0],\n",
       "         ...,\n",
       "         [ 101, 6435, 1147,  ..., 2339, 1066,  102],\n",
       "         [ 101,  100, 2356,  ..., 8013,  102,    0],\n",
       "         [ 101,  100, 1344,  ..., 2990,  678,  102]]),\n",
       " 'attention_mask': tensor([[1, 1, 1,  ..., 1, 1, 1],\n",
       "         [1, 1, 1,  ..., 1, 1, 1],\n",
       "         [1, 1, 1,  ..., 0, 0, 0],\n",
       "         ...,\n",
       "         [1, 1, 1,  ..., 1, 1, 1],\n",
       "         [1, 1, 1,  ..., 1, 1, 0],\n",
       "         [1, 1, 1,  ..., 1, 1, 1]]),\n",
       " 'labels': tensor([4, 3, 5, 0, 4, 4, 6, 2, 4, 0, 6, 3, 1, 5, 6, 0, 0, 4, 0, 1, 3, 6, 0, 5])}"
      ]
     },
     "execution_count": 27,
     "metadata": {},
     "output_type": "execute_result"
    }
   ],
   "source": [
    "next(iter(train_data_loader))"
   ]
  },
  {
   "cell_type": "code",
   "execution_count": 28,
   "id": "9f67a10e-b4b6-4114-8692-e872b77d2fec",
   "metadata": {},
   "outputs": [
    {
     "data": {
      "text/plain": [
       "dict_keys(['texts', 'input_ids', 'attention_mask', 'labels'])"
      ]
     },
     "execution_count": 28,
     "metadata": {},
     "output_type": "execute_result"
    }
   ],
   "source": [
    "data_input = next(iter(train_data_loader))\n",
    "data_input.keys()"
   ]
  },
  {
   "cell_type": "code",
   "execution_count": 29,
   "id": "c427489e-f454-43ca-97f2-64026897c422",
   "metadata": {},
   "outputs": [
    {
     "name": "stdout",
     "output_type": "stream",
     "text": [
      "torch.Size([24, 128])\n",
      "torch.Size([24, 128])\n",
      "torch.Size([24])\n"
     ]
    }
   ],
   "source": [
    "print(data_input['input_ids'].shape)\n",
    "print(data_input['attention_mask'].shape)\n",
    "print(data_input['labels'].shape)"
   ]
  },
  {
   "cell_type": "markdown",
   "id": "72f26136-1a52-48e5-a965-4b434bae94c4",
   "metadata": {},
   "source": [
    "### 基于BERT的政务文本分类"
   ]
  },
  {
   "cell_type": "code",
   "execution_count": 30,
   "id": "86e6c9bb-69d5-481c-9127-a242b6f25327",
   "metadata": {},
   "outputs": [],
   "source": [
    "bert_model = BertModel.from_pretrained(PRE_TRAINED_MODEL_NAME)"
   ]
  },
  {
   "cell_type": "code",
   "execution_count": 31,
   "id": "0a4b7135-8100-42ee-ab2f-61fdadf80466",
   "metadata": {},
   "outputs": [
    {
     "data": {
      "text/plain": [
       "BertModel(\n",
       "  (embeddings): BertEmbeddings(\n",
       "    (word_embeddings): Embedding(21128, 768, padding_idx=0)\n",
       "    (position_embeddings): Embedding(512, 768)\n",
       "    (token_type_embeddings): Embedding(2, 768)\n",
       "    (LayerNorm): LayerNorm((768,), eps=1e-12, elementwise_affine=True)\n",
       "    (dropout): Dropout(p=0.1, inplace=False)\n",
       "  )\n",
       "  (encoder): BertEncoder(\n",
       "    (layer): ModuleList(\n",
       "      (0-11): 12 x BertLayer(\n",
       "        (attention): BertAttention(\n",
       "          (self): BertSelfAttention(\n",
       "            (query): Linear(in_features=768, out_features=768, bias=True)\n",
       "            (key): Linear(in_features=768, out_features=768, bias=True)\n",
       "            (value): Linear(in_features=768, out_features=768, bias=True)\n",
       "            (dropout): Dropout(p=0.1, inplace=False)\n",
       "          )\n",
       "          (output): BertSelfOutput(\n",
       "            (dense): Linear(in_features=768, out_features=768, bias=True)\n",
       "            (LayerNorm): LayerNorm((768,), eps=1e-12, elementwise_affine=True)\n",
       "            (dropout): Dropout(p=0.1, inplace=False)\n",
       "          )\n",
       "        )\n",
       "        (intermediate): BertIntermediate(\n",
       "          (dense): Linear(in_features=768, out_features=3072, bias=True)\n",
       "          (intermediate_act_fn): GELUActivation()\n",
       "        )\n",
       "        (output): BertOutput(\n",
       "          (dense): Linear(in_features=3072, out_features=768, bias=True)\n",
       "          (LayerNorm): LayerNorm((768,), eps=1e-12, elementwise_affine=True)\n",
       "          (dropout): Dropout(p=0.1, inplace=False)\n",
       "        )\n",
       "      )\n",
       "    )\n",
       "  )\n",
       "  (pooler): BertPooler(\n",
       "    (dense): Linear(in_features=768, out_features=768, bias=True)\n",
       "    (activation): Tanh()\n",
       "  )\n",
       ")"
      ]
     },
     "execution_count": 31,
     "metadata": {},
     "output_type": "execute_result"
    }
   ],
   "source": [
    "bert_model"
   ]
  },
  {
   "cell_type": "code",
   "execution_count": 32,
   "id": "2f333132-3985-4433-b0bc-c9330032e041",
   "metadata": {},
   "outputs": [],
   "source": [
    "last_hidden_state, pooled_output = bert_model(\n",
    "    input_ids=encoding['input_ids'], \n",
    "    attention_mask=encoding['attention_mask'],\n",
    "    return_dict = False\n",
    ")"
   ]
  },
  {
   "cell_type": "code",
   "execution_count": 33,
   "id": "4892e28a-09bc-485a-81f4-4db518f7e318",
   "metadata": {},
   "outputs": [
    {
     "data": {
      "text/plain": [
       "tensor([[[ 0.8880,  0.1987,  1.3610,  ..., -0.5096,  0.3742, -0.2368],\n",
       "         [-0.0747,  0.3148,  1.4699,  ..., -1.0238, -0.0518, -0.0557],\n",
       "         [ 1.0133, -0.6058,  1.0152,  ...,  0.3536,  1.1091, -0.1179],\n",
       "         ...,\n",
       "         [-0.0071, -0.1262, -0.0782,  ...,  0.3025, -0.2619, -0.1004],\n",
       "         [-0.0977, -0.2776, -0.1804,  ...,  0.3308, -0.2601, -0.1434],\n",
       "         [-0.1423, -0.3003, -0.1527,  ...,  0.3480, -0.2467, -0.1152]]],\n",
       "       grad_fn=<NativeLayerNormBackward0>)"
      ]
     },
     "execution_count": 33,
     "metadata": {},
     "output_type": "execute_result"
    }
   ],
   "source": [
    "last_hidden_state # 每个token的向量表示"
   ]
  },
  {
   "cell_type": "code",
   "execution_count": 34,
   "id": "f37984d3-ae1f-4a02-a54c-7d7671c3baeb",
   "metadata": {},
   "outputs": [
    {
     "data": {
      "text/plain": [
       "tensor([[ 0.9999,  0.9998,  0.9989,  0.9629,  0.3075, -0.1866, -0.9904,  0.8628,\n",
       "          0.9710, -0.9993,  1.0000,  1.0000,  0.9312, -0.9394,  0.9998, -0.9999,\n",
       "          0.0417,  0.9999,  0.9458,  0.3190,  1.0000, -1.0000, -0.9062, -0.9048,\n",
       "          0.1764,  0.9983,  0.9346, -0.8122, -0.9999,  0.9996,  0.7879,  0.9999,\n",
       "          0.8475, -1.0000, -1.0000,  0.9413, -0.8260,  0.9889, -0.4976, -0.9857,\n",
       "         -0.9955, -0.9580,  0.5833, -0.9996, -0.8932,  0.8563, -1.0000, -0.9999,\n",
       "          0.9719,  0.9999, -0.7430, -0.9993,  0.9756, -0.9754,  0.2991,  0.8933,\n",
       "         -0.9991,  0.9987,  1.0000,  0.4156,  0.9992, -0.9452, -0.8020, -0.9999,\n",
       "          1.0000, -0.9964, -0.9900,  0.4365,  1.0000,  1.0000, -0.9400,  0.8794,\n",
       "          1.0000,  0.9105, -0.6616,  1.0000, -0.9999,  0.6892, -1.0000, -0.9817,\n",
       "          1.0000,  0.9957, -0.8844, -0.8248, -0.9921, -0.9999, -0.9998,  1.0000,\n",
       "          0.5228,  0.1297,  0.9932, -0.9999, -1.0000,  0.9993, -0.9996, -0.9948,\n",
       "         -0.9561,  0.9996, -0.5785, -0.9386, -0.2035,  0.9086, -0.9999, -0.9993,\n",
       "          0.9959,  0.9984,  0.6953, -0.9995,  1.0000,  0.8610, -1.0000, -0.4507,\n",
       "         -1.0000,  0.2385, -0.9812,  0.9998,  0.9504,  0.5421,  0.9995, -0.9998,\n",
       "          0.9320, -0.9941, -0.9718, -0.9910,  0.9822,  1.0000,  0.9997, -0.9990,\n",
       "          1.0000,  1.0000,  0.8608,  0.9964, -0.9997,  0.9799,  0.5985, -0.9098,\n",
       "          0.5329, -0.6345,  1.0000,  0.9872,  0.9970, -0.9719,  0.9988, -0.9933,\n",
       "          1.0000, -0.9999,  0.9973, -1.0000, -0.6550,  0.9996,  0.8899,  1.0000,\n",
       "          0.2969,  0.9999, -0.9983, -0.9991,  0.9906, -0.6590,  0.9872, -1.0000,\n",
       "          0.7658,  0.7876, -0.8556,  0.6304, -1.0000,  1.0000, -0.7938,  1.0000,\n",
       "          0.9898,  0.2216, -0.9942, -0.9969,  0.8345, -0.9998, -0.9779,  0.9914,\n",
       "          0.5227,  0.9992, -0.9893, -0.9889,  0.2325, -0.9887, -0.9999,  0.9885,\n",
       "          0.0340,  0.9284,  0.5197,  0.4143,  0.8315,  0.1585, -0.5348,  1.0000,\n",
       "          0.2361,  0.9985,  0.9999, -0.3446,  0.1012, -0.9924, -1.0000, -0.7542,\n",
       "          0.9999, -0.2807, -0.9999,  0.9490, -1.0000,  0.9906, -0.7288, -0.5263,\n",
       "         -0.9545, -0.9999,  0.9998, -0.9286, -0.9997, -0.5303,  0.8886,  0.5605,\n",
       "         -0.9989, -0.3324,  0.9804, -0.9075,  0.9905, -0.9800, -0.9946,  0.6856,\n",
       "         -0.9393,  0.9929,  0.9874,  1.0000,  0.9997, -0.0714, -0.9440,  1.0000,\n",
       "          0.1676, -1.0000,  0.5573, -0.9611,  0.8835,  0.9999, -0.9980,  0.9294,\n",
       "          1.0000,  0.7968,  1.0000, -0.7065, -0.9793, -0.9997,  1.0000,  0.9922,\n",
       "          0.9999, -0.9984, -0.9995, -0.1701, -0.5426, -1.0000, -1.0000, -0.6334,\n",
       "          0.9969,  0.9999, -0.1620, -0.9818, -0.9921, -0.9994,  1.0000, -0.9759,\n",
       "          1.0000,  0.8570, -0.7434, -0.9164,  0.9438, -0.7311, -0.9986, -0.3936,\n",
       "         -0.9997, -0.9650, -1.0000,  0.9433, -0.9999, -1.0000,  0.6913,  1.0000,\n",
       "          0.8762, -1.0000,  0.9997,  0.9764,  0.7094, -0.9294,  0.9522, -1.0000,\n",
       "          1.0000, -0.9965,  0.9428, -0.9972, -0.9897, -0.7680,  0.9922,  0.9999,\n",
       "         -0.9999, -0.9597, -0.9922, -0.9807, -0.3632,  0.9936, -0.7280,  0.4117,\n",
       "         -0.9498, -0.9666,  0.9545, -0.9957, -0.9970,  0.4028,  1.0000, -0.9798,\n",
       "          1.0000,  0.9941,  1.0000,  0.9202, -0.9942,  0.9996,  0.5352, -0.5836,\n",
       "         -0.8829, -0.9418,  0.9497, -0.0532,  0.6966, -0.9999,  0.9998,  0.9917,\n",
       "          0.9612,  0.7289,  0.0167,  0.3179,  0.9627, -0.9911,  0.9995, -0.9996,\n",
       "         -0.6737,  0.9991,  1.0000,  0.9932,  0.4880, -0.7488,  0.9986, -0.9961,\n",
       "          0.9995, -1.0000,  0.9999, -0.9940,  0.9705, -0.9970, -0.9856,  1.0000,\n",
       "          0.9846, -0.7932,  0.9997, -0.9386,  0.9938,  0.9738,  0.8173,  0.9913,\n",
       "          0.9981,  1.0000, -0.9998, -0.9918, -0.9727, -0.9987, -0.9955, -1.0000,\n",
       "         -0.1038, -1.0000, -0.9874, -0.9287,  0.5109, -0.9056,  0.1022,  0.7864,\n",
       "         -0.8197,  0.5724, -0.5905,  0.2713, -0.7239, -0.9976, -0.9844, -1.0000,\n",
       "         -0.9988,  0.8835,  0.9999, -0.9997,  0.9999, -0.9999, -0.9782,  0.9383,\n",
       "         -0.5609,  0.7721,  0.9999, -1.0000,  0.9585,  0.9987,  1.0000,  0.9960,\n",
       "          0.9993, -0.9741, -0.9999, -0.9989, -0.9999, -1.0000, -0.9998,  0.9343,\n",
       "          0.6337, -1.0000,  0.0902,  0.8980,  1.0000,  0.9964, -0.9985, -0.6136,\n",
       "         -0.9996, -0.8252,  0.9996, -0.0566, -1.0000,  0.9962, -0.8744,  1.0000,\n",
       "         -0.8865,  0.9879,  0.8897,  0.9571,  0.9823, -1.0000,  0.9145,  1.0000,\n",
       "          0.0365, -1.0000, -0.9985, -0.9075, -0.9998,  0.0369,  0.8120,  0.9999,\n",
       "         -1.0000, -0.9155, -0.9975,  0.7988,  0.9922,  0.9998,  0.9982,  0.9267,\n",
       "          0.9165,  0.5368,  0.1464,  0.9998,  0.4663, -0.9989,  0.9996, -0.7952,\n",
       "          0.4527, -1.0000,  0.9998,  0.4073,  0.9999,  0.9159, -0.5480, -0.6821,\n",
       "         -0.9904,  0.9938,  1.0000, -0.4229, -0.4845, -0.9981, -1.0000, -0.9861,\n",
       "         -0.0950, -0.4625, -0.9629, -0.9998,  0.6675, -0.5244,  1.0000,  1.0000,\n",
       "          0.9924, -0.9253, -0.9974,  0.9974, -0.9012,  0.9900, -0.2582, -1.0000,\n",
       "         -0.9919, -0.9986,  1.0000, -0.9716, -0.9262, -0.9911, -0.2593,  0.5919,\n",
       "         -0.9999, -0.4994, -0.9962,  0.9818,  1.0000, -0.9996,  0.9918, -0.9970,\n",
       "          0.7085, -0.1369,  0.8077,  0.9955, -0.3394, -0.5860, -0.6887, -0.9841,\n",
       "          0.9970,  0.9987, -0.9948, -0.8401,  0.9999,  0.0856,  0.9999,  0.5099,\n",
       "          0.9466,  0.9567,  1.0000,  0.8771,  1.0000, -0.0815,  1.0000,  0.9999,\n",
       "         -0.9392,  0.5744,  0.8723, -0.9686,  0.5958,  0.9822,  0.9997,  0.8854,\n",
       "         -0.1952, -0.9967,  0.9994,  1.0000,  1.0000, -0.3391,  0.9883, -0.4452,\n",
       "          0.9252,  0.4495,  0.9870,  0.3479,  0.2266,  0.9942,  0.9990, -0.9999,\n",
       "         -0.9999, -1.0000,  1.0000,  0.9996, -0.6637, -1.0000,  0.9999,  0.4543,\n",
       "          0.7471,  0.9983,  0.3772, -0.9812,  0.9853, -0.9995, -0.3404,  0.9788,\n",
       "          0.9867,  0.7564,  0.9995, -0.9997,  0.7990,  1.0000,  0.0752,  0.9999,\n",
       "          0.2912, -0.9941,  0.9970, -0.9935, -0.9995, -0.9743,  0.9991,  0.9981,\n",
       "         -0.9273, -0.8402,  0.9996, -0.9999,  0.9999, -0.9998,  0.9724, -0.9939,\n",
       "          1.0000, -0.9752, -0.9998, -0.3806,  0.8830,  0.8352, -0.8892,  1.0000,\n",
       "         -0.8875, -0.8107,  0.7083, -0.8909, -0.9931, -0.9630,  0.0800, -1.0000,\n",
       "          0.7777, -0.9611,  0.5867, -0.9947, -0.9999,  1.0000, -0.9084, -0.9414,\n",
       "          0.9999, -0.8838, -1.0000,  0.9549, -0.9999, -0.6522,  0.7967, -0.6850,\n",
       "          0.1524, -1.0000,  0.4800,  0.9999, -0.9998, -0.7089, -0.9129, -0.9864,\n",
       "          0.6220,  0.8855,  0.9855, -0.8651,  0.3988, -0.2548,  0.9793, -0.7212,\n",
       "         -0.2582, -0.9999, -0.8692, -0.6282, -0.9999, -0.9999, -1.0000,  1.0000,\n",
       "          0.9996,  0.9999, -0.5600,  0.7442,  0.9460,  0.9927, -0.9999,  0.4407,\n",
       "         -0.0461,  0.9937, -0.4887, -0.9994, -0.9198, -1.0000, -0.6905,  0.3538,\n",
       "         -0.7728,  0.6622,  1.0000,  0.9999, -0.9999, -0.9994, -0.9995, -0.9979,\n",
       "          0.9998,  0.9999,  0.9996, -0.9072, -0.5844,  0.9997,  0.9689,  0.5231,\n",
       "         -0.9999, -0.9981, -0.9999,  0.7505, -0.9922, -0.9986,  0.9971,  1.0000,\n",
       "          0.8730, -1.0000, -0.9533,  1.0000,  0.9997,  1.0000, -0.7768,  0.9999,\n",
       "         -0.9838,  0.9819, -0.9993,  1.0000, -1.0000,  1.0000,  0.9999,  0.9809,\n",
       "          0.9984, -0.9928,  0.9776, -0.9998, -0.7407,  0.9298, -0.4495, -0.9902,\n",
       "          0.8053,  0.9996, -0.9952,  1.0000,  0.9243, -0.2028,  0.8002,  0.9873,\n",
       "          0.9419, -0.6913, -0.9999,  0.8162,  0.9995,  0.9509,  1.0000,  0.9177,\n",
       "          0.9996, -0.9839, -0.9998,  0.9914, -0.6991, -0.7821, -0.9998,  1.0000,\n",
       "          1.0000, -0.9999, -0.9227,  0.7483,  0.1186,  1.0000,  0.9963,  0.9971,\n",
       "          0.9857,  0.3887,  0.9996, -0.9999,  0.8526, -0.9980, -0.8613,  0.9999,\n",
       "         -0.9899,  0.9999, -0.9981,  1.0000, -0.9858,  0.9944,  0.9989,  0.9684,\n",
       "         -0.9968,  1.0000,  0.8246, -0.9956, -0.8348, -0.9374, -0.9999,  0.7827]],\n",
       "       grad_fn=<TanhBackward0>)"
      ]
     },
     "execution_count": 34,
     "metadata": {},
     "output_type": "execute_result"
    }
   ],
   "source": [
    "pooled_output"
   ]
  },
  {
   "cell_type": "code",
   "execution_count": 35,
   "id": "99700eac-659b-4c63-bcb8-e9f3467a8072",
   "metadata": {},
   "outputs": [
    {
     "name": "stdout",
     "output_type": "stream",
     "text": [
      "last_hidden_state: torch.Size([1, 128, 768])\n",
      "pooled_output: torch.Size([1, 768])\n",
      "bert_model.config.hidden_size: 768\n"
     ]
    }
   ],
   "source": [
    "print('last_hidden_state:', last_hidden_state.shape)\n",
    "print('pooled_output:',pooled_output.shape)\n",
    "print('bert_model.config.hidden_size:',bert_model.config.hidden_size)"
   ]
  },
  {
   "cell_type": "code",
   "execution_count": 36,
   "id": "bb91920a-58ad-4448-a1c8-606d04331401",
   "metadata": {},
   "outputs": [],
   "source": [
    "class GovernmenttextsClassifier(nn.Module):\n",
    "    def __init__(self, n_classes):\n",
    "        super(GovernmenttextsClassifier, self).__init__()\n",
    "        self.bert = BertModel.from_pretrained(PRE_TRAINED_MODEL_NAME)\n",
    "        self.drop = nn.Dropout(p=0.3)\n",
    "        self.out = nn.Linear(self.bert.config.hidden_size, n_classes)\n",
    "    def forward(self, input_ids, attention_mask):\n",
    "        _, pooled_output = self.bert(\n",
    "            input_ids=input_ids,\n",
    "            attention_mask=attention_mask,\n",
    "            return_dict = False\n",
    "        )\n",
    "        output = self.drop(pooled_output) # dropout\n",
    "        return self.out(output)"
   ]
  },
  {
   "cell_type": "code",
   "execution_count": 37,
   "id": "46b27cc2-3dfe-4555-95e9-6f3554d6e740",
   "metadata": {},
   "outputs": [],
   "source": [
    "class_names=[0,1,2,3,4,5,6]"
   ]
  },
  {
   "cell_type": "code",
   "execution_count": 38,
   "id": "f72fa862-fbc3-401a-a194-ae60b63bbd88",
   "metadata": {},
   "outputs": [],
   "source": [
    "model = GovernmenttextsClassifier(len(class_names))\n",
    "model = model.to(device)"
   ]
  },
  {
   "cell_type": "code",
   "execution_count": 39,
   "id": "8d0c7d94-45f8-4d89-adec-fb2d0d0f2530",
   "metadata": {},
   "outputs": [
    {
     "data": {
      "text/plain": [
       "{'texts': ['在M市入了医保到A市爱尔眼科医院做手术后回去报不了？ 我是以个患眼科病比较罕见的别人，到全省多家大医院做了检查都没有找到比较好的治疗方案，但是经过朋友介绍到A市爱尔眼科医院找到了全国比较有名的教授，也找到了比较好的治疗方案，但是到M市医保局一问，A市爱尔眼科的医药费报不了。我不知道为什么，我问了下A市爱尔，他们那里，E市，G市，L市等地的都可以报，只有我们M市的不可以报，我不知道什么原因，我入了那么多年的医保为什么到一家那么大的医院做手术不能报销，而且整个西地省只有M市不能报销，所以想请M市医保局的领导帮我们做做好事别让我们正常的有医保的没有地方可以报。谢谢！',\n",
       "  'B市高中学籍挂靠招生骗局何时休 我小孩今年初中毕业，报考B市十八中美术生，考试成绩没有达到学校录取线，我老婆的同时介绍说，只要花点钱找人可以录取并推荐了联系人王坤（社会无业人员，，株化生活区1区20栋305），我们根据王坤的要求第一时间给了他4.5万元，他承诺一周之内答复。一周后，我们联系他，他说等补录。补录时间过去了也没有录取消息，我们再次联系他，他说已经录取了，叫我们吃个定心丸，八月初直接带我们去学校报到。八月份到了，他又说现在放暑假，没人上班，等开学再去报到。等到开学8月29日，他来电话说带我们先去潇楚实验中学（民办学校）报到，办理注册手续，学籍暂时挂在民办学校，然后再去十八中报到，一学期后学籍再转让十八中。此时，我彻底放弃幻想，这是完全是个骗局。因为错失公办学校录取时间，本来我小孩被B市工业学校普职融通班录取的，结果选择放弃，只能赶紧联系外地比较好的民办学校，给小孩办理入学手续，让他安心学习。安排好小孩之后，我第一时间来到十八中，找到杨电波校长反应情况。杨校长听完我的反应后，说的第一句话竟然是：“以前听说有人花多少进我们学校，我不信，今天听你这么一说，我相信了，我感到很自豪。”我问他学校有没有这种学籍挂靠在民办学校在18中寄读的学生，他说有少数特殊关系的几个学生存在这种情况。尔后敷衍几句，把我打发走了。接下来我向片区督导林喜元和B市驻教育局纪委反应，均没有什么处理结果。据我侧面了解，B市内公办高中几乎都存在这种学籍挂靠寄读生，这说明B市存在一个利用学籍挂靠实施虚假招生承诺的诈骗团伙，王坤自己介绍每年通过他们这种方式解决很多小孩的学习问题。根据西地省中小学学籍管理制度和B市中小学招生政策是严禁人籍分离。希望B市教育行政部门严查这种利用学籍挂靠寄读方式内外勾结实施欺诈行为，彻底取缔学籍挂靠寄读，还教育一片净土。',\n",
       "  'L5县发往两丫坪方向的客运车儿童乘车都收全票！ L5县发往两丫坪方向的客运车按人头收费问题，不管小孩婴儿都收全票，请问有法律依据吗？',\n",
       "  '举报I6市教育局公共租赁住房招标违规事宜 我是西地省I市I6市的一个小市民，多年从事建筑施工工作，最近在西地省招标投标监管网发现一条I6市教育局公共租赁住房建设项目招标公告，招标公告中提到采用的评标方法为楚建建[2013]282号文件中“综合评估法（Ⅱ）”，而根据招标公告内招标项目大小及施工难易程度与楚建建[2013]282号文件中附表一综合评估法（Ⅱ）采用范围对比，存在条件不符的地方；1、该招标公告中所有招标的三个标段的工程造价、建筑面积、建筑高度和建筑层数与综合评估法（Ⅱ）采用范围中的“二级及以上施工资质才能承担的工程”不符，根据2015年住房与城乡建设部制定颁布的《建筑业企业资质标准》中建筑工程施工总承包企业承包范围条例，该招标公告中所有招标的三个标段的工程造价、建筑面积、建筑高度和建筑层数同样满足三级施工资质承包范围；2、该招标公告中所有招标的三个标段中的所有单体工程均为普通的学校公共租赁住房，建筑层数少，建筑面积小，工程造价小，结构简单，施工难度小，并不存在工程复杂、技术难度大和专业性较强等因素，与综合评估法（Ⅱ）采用范围中的“工程复杂、技术难度大和专业性较强的工程”不符。其中综合评估法（Ⅱ）还有需建设单位与评审组共同评分这一特殊因素，而综合评估法（Ⅰ）则全权通过评审组评分即可。根据以上两大疑点，本人有理由认为该I6市教育局公共租赁住房建设项目招标行为存在违规操作、故意设卡、便于以后暗箱操作的嫌疑；鉴于楚建建[2013]282号文件综合评估法（Ⅱ）的采用范围并不适用于该招标公告中所有参与招标的建设项目，而发包人I6市教育局在明知违规的前提下仍旧采用不适用该招标项目的评标办法，是否是受人指使或存在利益交易，教育局作为国家教育行业的监管管理部门，更应做到公平、公正、公开，竟在今天，还敢如此顶风违纪，目无法规，与党规党章背道而驰、徇私舞弊、以权谋私、害国害民。在此，本人愿意以实名制举报I6市教育局，望西地省纪律检查委员会着实调查，还I6市教育系统一片净土，还I6市民一个公道！此致敬礼！举报人：李辉光2015年9月30日',\n",
       "  '请求解决D9县城管大队新塘中队在编工作人员的工作补贴 厅长您好：我们是D市D9县城管大队新塘中队在编的工作人员,2012年D9县编办下文成立新塘城管中队的文件,文件规定;城管中队实行“双重管理,以条为主”的管理体制,其管理.人员编制以县住建局为主,日常工作以所属镇政府负责,考核是双重考核.现在县人社局已经开始对乡镇工作的人员在填报补贴表,我们得知消息后找到县人社局分管工资的领导并拿出县编办的文件给他看,分管工资的领导说我们不能享受补贴,只有乡镇工作人员和七站八所的人员才能享受,我们又找了人社局局长,他说现在是第一批要我们等第二批.这我们就有点迷惑了,省人社厅文件明确规定在乡镇工作的人员就可以享受乡镇补贴,难K6县编办下的文件还不能作数吗?请求上级领导百忙中给我们指点.谢谢！',\n",
       "  'L5县改制办回复令煤炭系统一千七百多下岗工人心寒 我是西地省L5县均坪煤下岗工人。‘’我县煤炭系统国有企业的改制工作于2014年11月全面启动‘’。L5县改革工作方案于2014年5月14号下发，县煤炭局改制办随即成立，到目前为止，没有任何经职工大会通过的，公开、透明的改制文字方案。‘’由于楚政办发（2013）60号文件规定的执行载止时间为2015年12月31号，加之在2014年12月31号前完成挂账‘’试问；楚政办发（2013）60号文《关于市、州、县国有企业关闭、破产养老保险有关问题的通知》中：为支持市、州、县属国有企业改革，维护企业职工权益，根据国家和省相关政策，结合地方国有企业的改革实际情况，经省人民政府同意，现就市、州、县国有企业关闭、破产养老保险有关问题通知如下；试问，这是改制文件吗？与改制有直接关联吗？‘’为了既能给职工办实事、办好事，又能减轻县财政负担‘’试问；强迫职工缴清个人部分养老金后，解除劳动合同这是为职工办实事吗？2007年后，职工先后代单位应缴的为什么只字不提退还，拖欠职工的工资，抚恤人员抚恤费，职业病检查等只字不提，职工下岗近二十余年的国家补帖，改制按国家政策安置费，按《劳动法》解除劳动合同经济补偿全无，这也是为职工办实惠？造假、伪签职工名，‘自愿放弃安置和经济补偿’在上报省材料中到清清楚楚。‘’时间极为紧迫，由于煤炭系统职工分散在全国各地，短时间无法召集‘’试问；通知了吗？为什么被蒙骗的职工为了积极配合单位改制，与2015年10月左右，在短短一个月内，各矿先后依法召开了合符法定人数的职工大会并选举了职工代表。‘’为确保煤炭系统全体职工及时享受优惠政策‘’。试问；职工享了什么？80%、20%是职工个人行为吗？与职工有关系吗？与下岗、失业，改制、解除劳动关系有关系吗？‘’我县煤炭系统所属国有企业的改制工作自始至终都是开公、透明的‘’‘’所有重大事项和决策均通过集体研究决定‘’试问；广大职工知情吗？召开过职工大会和职工代表大会吗？这个集体代表谁？有职工代表吗？为什么要伪造广大职工签名，这么严重侵权违法行为，难道你集体不懂法？L5县造假相关部门及人员，不要强词夺理了，你们敢面对上千职工和上级领导的问责吗？越掩饰，最后问题越严重，天是遮不住的。',\n",
       "  'J市第一人民医院拿病人作试验品 请求还我一个公道，以慰家父在天之灵父亲是山，顶天立地。当大家在享受父爱的温暖与伟岸时，享受一家老小其乐融融的幸福时，我的天却塌了——我最爱的父亲永远的离开了我们。在进行心脏支架手术“成功”后第六天即将出院时突然离世，在全家倾家荡产花费30余万元治疗费后突然撒手人寰。而面对家属的质疑，作为院方的J市第一人民医院竟无一人领导出面解释甚至置之不理。事情还得从这说起。家父肖贤美，男，1942年7月15日出生，J6县人。2017年6月24日，因心脏病住入J市第一人民医院（中心院）心血管科，遵院方安排于7月7日由毛先军医生主刀做了第一次右心房支架手术，花费五万余元。之后院方称，由于该医院技术受限，左心房还有一根血管需请专家主刀才能确保万无一失，于是在医院诱导之下于7月21日，由专家主刀进行第二次手术，并在未经得家属同意之下，拿病人作试验品进行现场作业和学术交流（之后得知），时间长达7个多小时，单此次手术费就花了18万。7月25日接医院通知称病人恢复良好，并安排27日出院。谁知当病人8点多钟吃完早餐收好东西，与病友们谈笑风生满怀信心高高兴兴等孩儿们专车接出院时，而突然发病，竟然于当天（7月27日）14:40死于重症监护室。事后院方领导无一人出面解释和安慰，却只顾采取非常手段强迫家属限时把遗体移走。现在患方无奈被迫下己办好院方提出的所有事宜后，来找院方讨个说法时，却无人理睬了。苍天呐，家属为医治病人共花费30余万元，几近倾家荡产，目前人财两空。',\n",
       "  '西地省邮政快递太慢，7号发出的鲜果现在还在A市中心 中国邮政太慢了，7号从J5县寄出的东西，9号到A市，然后就没有物流信息更新了。真是让人怀疑东西是不是被截留了还是被拿了。放了这么多天，鲜果变干果吗？',\n",
       "  'B市村医养老问题还未解决 陈书记：你好！我是B9市的村医，我们年纪已有点大了，因卫生局对村卫生室还不给予新农合报销，又不解决我们的养老保险问题。请陈书记在支持B市公立医院医改的同时，为我们村医尽量解决一些实际生存问题。我们将不胜感激！同时请陈书记帮忙督促卫生局解决！谢谢！',\n",
       "  'I市桥北广场一摊贩乱丢大量甘蔗垃圾 I市I1区马良社区无业人员陈某在I市桥北广场乱设摊位，把大量甘蔗垃圾乱丢于天成市场前门，严重影响市容。根据《西地省实施（城市市容和环境卫生管理条例)办法》，请予以处罚。',\n",
       "  'C4市龙洞镇楠香村村支书当选人违法超生 尊敬的政府领导：自C4市（居）“两委”换届选举工作安排部署以来，为了确保选出群众满意的村干部，得到政府领导高度重视和村民的高度关注。C4市将进一步严把标准关，切实践行省委“八严禁”“九不选”纪律规定，认真开展村级财务清理工作，严肃查处违纪违法行为，确保村（居）“两委”换届工作平稳有序的开展。C4市龙洞镇楠香村在政府的领导下已经完成了本次换届选举，在选举没有召开村民会议及选举村民代表的情况下，选举党员李方志为楠香村党支部书记。在2005年李方志同志违法计划生育基本国策，违法超生了第三个孩子，严重违法了计划生育基本国策，作为一个连基本国策都可以违反的人，为什么还能作为候选人进入选举，还能够当选？根据法律文件，李方志同志严重违法了计划生育基本国策。恳请政府领导秉着公平、公正调查李方志同志，给村民一个答复，使村（居）“两委”换届依法依规进行，选出真正让群众满意的村干部。',\n",
       "  'A市小学护窗和楼梯安全问题得重视 小学一至六年级教室一律要安护窗,楼梯护杆要通到上一层,不设扶手,让小孩无法在扶手上溜滑玩耍,小孩在楼梯上推耍容易出事,楼梯一律铺地毯,阳台护栏要高于一点五米,成人都不守交通规则,五ー大道中心护栏撒了后,出了不少交通事故,小孩靠教育不解决问题.',\n",
       "  '举报I3县环保局执法不力及I3县新耀沥青路面工程公司污染环境 杨局：位于I3县三仙湖镇下柴市街道附近的I3县新耀沥青路面工程有限公司，经常在白天和黑夜排放大量浓烈的带有刺激性气味的黑烟，严重污染空气，疑为有毒害烟尘（冒烟时附近居民均感鼻喉严重不适，特别是老人和小孩），该厂1000米距离内有6个村民小组，有一所初级中学、有下柴市街道、有一所小学,总人口约为6000人，影响极为严重和恶劣。为此，我们附近住户联名投诉I3县新耀沥青路面工程有限公司1、排放有毒害污染浓烟产生粉尘,经了解，I3县新耀沥青路面工程有限公司生产排出的烟尘含大量的二氧化硫(so2),易被湿润的粘膜表面吸收生成亚硫酸、硫酸。对眼及呼吸道粘膜有强烈的刺激作用。沥青烟和粉尘可经呼吸道和污染皮肤而引起中毒，发生皮炎、视力模糊、眼结膜炎、胸闷、腹病、心悸、头痛等症状。经科学试验证明，沥青和沥青烟中所含的3，4苯并芘是世界公认的一种高致癌物质，对环境会造成严重污染。沥青搅拌站的存在显然与周边环境格格不入,粉尘对大气造成严重污染。2、生产噪音极大，严重扰民。工厂噪音问题严重影响附近居民正常生活和休息。大多居民夜间根本无法入眠，噪音和震动使人烦躁难忍，威胁着居民的身心健康，（特别是老人，儿童及一些应届考试的学生。）根据《大气污染防治法》和《制定地方大气污染物排放标准的技术方法》这样的企业绝对不能建造的离居住区及学校那么近。经确认，I3县新耀沥青路面工程有限公司无环评批复、无环境突发事故应急预案、无第三方环境监测报告、无安全生产许可证等属于违法生产。I3县环保局0000-00000000根本无人接听，5月15日我一天都在打这个电话，请追责I3县环保局执法不力！谢谢',\n",
       "  '在A市马王堆陶瓷市场购买的萨米特瓷砖数月就开始严重变形 萨米特瓷砖售后差，我去年11月份，在A市马王堆陶瓷市场（西地省年佳建材公司门店）买了近万元的萨米特瓷砖，保留有票据，才几个月时间，卫生间一面墙上就有许多瓷砖变形，鼓起来了，另一面墙上瓷砖则开裂。我多次打电话向经销商和厂家反映,他们来了几批次人,看了,说会帮我处理好此事。可是，过去几个月了，还是不见动静,特到平台投诉!',\n",
       "  'K市K1区外骨科医院误诊发生医疗事故，受害者家属申请赔偿 尊敬的各位领导：您们好！我是李斌，是受害者李某睿的父亲。现就我儿李某睿因医院误诊并错误治疗，导致我儿右手肘内翻一事，详述医院就诊治疗过程，并申请有关部门给予我们公道。2018年2月3日那天，我儿李某睿在玩耍时不慎从板凳上摔下来。当时他直喊手疼，我们便马上赶到K市K1区外骨科医院就诊。在医院拍片后，医生诊断说没问题，只开了副中药敷在手肘关节处及绑纱布，说这药敷7天再过来复诊。我们谨遵医嘱，直到第七天，李某睿的手还是喊疼，于2018年2月10日，我们又再次来到K市K1区外骨科医院复诊。再次拍片后，医生诊断仍说没问题，胸有成竹地说小孩可能是摔跤吓到了，不疼也说疼，依旧跟上次一样，敷了中药绑纱布。并告诉我们，这副中药敷5-7天就可以拆掉没事了。我们相信医生，但直到又过了7天，他还一直喊疼，寝食难安。手还是不能弯曲不能动，像断了一样，一点好转的迹象都没有。我们慌了，便立马赶到K市中心医院就诊。拍片后，医生诊断为右手肱骨骨折（骨痂形成），并且医生还看了我们在K市K1区外骨科医院的拍片，说片子都拍出来有问题，医生没看出来。建议我们到省儿童医院就诊。当天我们便坐车赶到了西地省儿童医院。省儿童医院的医生看了片子，诊断结果与K市中心医院的诊断一致，并且再次核实K市K1区外骨科医院误诊并错误治疗一事。医生确定并肯定地告诉我们，K市K1区外骨科医院的片子都拍出有问题，医生都没看出来，诊断错误，并且治疗处理方式也不当，导致我小孩右手肱骨骨折（骨痂形成），已错过最佳治疗期（两次诊断治疗，从诊断到治疗共耽误14天），需要后期手术治疗。截止目前为止，我儿子已连续几次前往西地省儿童医院骨科专家门诊看诊，骨科专家已确诊为右手肘内翻，必须做手术治疗。可怜我才2岁多的儿子，这么小就要承受做手术的痛苦和风险。K市K1区外骨科医院的误诊及错误治疗，导致我们全家长期以来，因为此事，耗费大量财力物力人力，寢不安席，食不甘味，承受着巨大的心理和精神压力以及财务压力，给我们造成了严重的身心损害和财物损伤，现要求K市K1区外骨科医院赔偿我们因此事而付出的费用合计85500元，费用明细如下：1.手术前拍片确诊费用1600元，交通费2000元，住宿费600元，误工费5000元，精神损害抚慰金3000元；2.后续去医院做手术治疗交通费800元，误工费5000元，手术治疗费60000元，陪护费3000元，住院伙食补助1500元，营养费3000元；在此恳请各位领导，就K市K1区外骨科医院误诊及错误治疗一事，对他们这种误人害人的行为做出公平的决断，还朗朗乾坤一片晴天，还我们一个公道！不胜感激！！！在此谢过。感激涕零！！！申请人：李斌(受害者父亲）联系电话：年12月14日',\n",
       "  '尽快完善A市星沙大道沿线垃圾桶的设置 自去年底完成星沙大道两厢绿化提质改造以来，环境确实大有改善，但仍有不令人满意之处，例如从开元路至滨湖路段的垃圾桶设置就很少，东侧基本没有，半年过去啦不知是何缘故？另外对沿线破坏的绿化带要认真调查原因，该恢复的补种，需更改的更改为地板，如K9县郡大门前，一切以人为本，合理性设计。',\n",
       "  'L7县县日化厂棚户区改造问题的咨询 我是西地省L7县县日化厂下岗职工，听说日化厂搞棚户区改造，我想问几个问题。1，L7县县铜矿棚户区改造只要1100多元每平米，而日化厂搞棚户区改造为什么要1700元每平米。2，在没有办理审批情况下强行要我们交钱，我们不见建房许可证和规划许可证不敢交钱，不交钱我们无权享受棚户区改造。3，在没有办理审批情况下私自动工开始建房是否合法？4，我们日化厂下岗职工不交钱就没有房，而不是日化厂职工交了钱可以享受棚户区改造，有房。5，1700元＝征地300元每平米建房子900元每平米税金300元每平米拉关系不可预计费150元每平米办房产证50元每平米。这样收费和运作符合棚户区改造吗？？？？？',\n",
       "  'J6县中医院强制加班才给职工发克扣的工资 J6县中医院强行克扣职工工资，要求职工休息时间加班工作才发克扣部分，请问这合法吗？应该向哪里投诉？',\n",
       "  '关于K2区曲河街道办事处逸云社区二房组拆迁征收政资金去向一事 K市K2区曲河街道办事处逸云社区二房组于2016年3月政府列为拆迁，如今房屋没有经过同意签字就拆迁而且有好几户都没有，被政府强行拆迁而且又没有房屋拆迁款，按国务院文件房屋个人财产必须经过当事人签字同意即可拆迁，而且又不能享有房屋补贴等，这些补贴资金去向不明，多次向信访单位及政府反映都没有处理，请K市长及省领导帮老百姓调查好事件。谢谢',\n",
       "  'F市八港村的废塑料加工厂应该归谁来管？ 三个月前，有人在屈原行政区八港村办了一个废塑料回收加工厂，把收购的废旧塑料就地清洗，加热造粒，制造再生塑料原料。几个月来，村里污水长流，气味刺鼻，老百姓正常生活备受影响，怨声不已。村民们多次打F市环保局监督电话，希望环保部门出面制止。但一直没有回应。无奈之中将电话打到局长您那里，您说派人下来调查，可时间已经过去数月，人影都不见一个。后来不得不上访至屈原行政区有关部门，同时找到F市环保局屈原行环保分局领导，所得到的回复是：政府部门要我们找环保局，环保局局长陈度怀去要我们找当地政府解决。原环保局熊局长现在是书记，估计也不可能对此事作出什么举措。既然违规塑料再生厂给来环境带来破坏，也严重伤害老百姓健康，为什么市环保局不管，李局长不管，陈局长不管，地方政府不管，难道叫老百姓直接去找市长解决？请您在百忙之中，关注此事的发展。不要到了事态不可收拾的地步，影响政府的形象，影响您的声誉。老实农民盼望您的回复。',\n",
       "  'B9市120多元的所谓教辅书压得学生和家长抬不起头 尊敬的局长：你好！我们B9市的小学生的书包不但没有减肥，反而越来越沉了，一些什么乱七八糟的教辅书多的让小学生背不起了，问学校说是教育局订的，原来国家没有减免教科书时的书籍费还只有6到70元，现在光教辅书就多达120多元，还有什么月刊都是强行发下来，这些书又贵，难道就是为了得到新华书店的回扣，就不管学生的学习负担和身体负担了吗？恳求局长大人在百忙之中管一管，这些乱摊派，乱订资料，严重加重学生和家长负担的腐派行为。',\n",
       "  '请切实解决K7县桃川医院门诊大楼的问题 张厅长：你好！我是K7县桃川医院院长王念文，我是今年3月到桃川的，接手的时候医院欠了200多万的债务，工资没有保障，经费，人员严重不足，问题最大的是我们的门诊大楼，已经是危房。就是在这种艰苦的环境下，经过我们全体干部职工共同努力，今年的收入预计达到400多万（去年140万），这半年来我们用我们的收入添置了彩超，CR，全自动生化,开支了40多万的基础建设，还偿还20万债务。可是我们的门诊大楼我真的是力不从心，现在我听说可以报项目，可是一个我们这样大的乡镇（人口5万，辐射10万），100万肯定是不够的（听说大小一样），希望领导考虑能不能把几个医院的项目集中在一起，分需要年度建设，也可以多给一点重要的乡镇，谢谢',\n",
       "  'K市购房补贴何时发放？ 本人于2017年5月，在K2区金盘世界城购房一套，根据当时市政府文件，凡在K市中心城区购房，享受购房契税、农补补贴，所有资料已经相关部门审核通过，至今没有收到任何补贴费用，难道是新官不理旧账了吗？请问相关部门何时发放相关购房补贴？谢谢！',\n",
       "  'E5县高滋村违法直销欺骗老人 E市E5县高滋村高滋村在十月十几号进来一批涉嫌违法直销商做直销宣传赠送小东西，当时有人在村群发布有骗子进村消息，村辅警小周在群里回复说是经过村里书记同意的，他已经拍照备案了，有人受骗联系他。我们在外的年轻人本着相信派出所的前提下只是打电话提醒家中老人不要上当。相类似的团队也有到兴东村进行赠送礼品，兴东村书记及时制止并赶走了他们。高滋进行的销售中也有一部分临近高滋村的兴东村民参与其中，兴东村书记对自己村村民进行劝解连续几天三次联系高滋村书记汤阳隆要求其把人赶走，汤阳隆反应淡淡不了了之，22号兴东村石中秋书记又打了电话给肖民自书记和曾会计当天肖书记和曾会计他们到现在对村民进行过劝说但并没有把直销商赶走。以至于现在家里多名留守老人上当受骗，其销售模式已经涉嫌违法，就我知道家中几位老人的受骗金额加起来就已经几万了，估计被骗金额最少有十万以上。知道家里老人上当受骗后我第一时间联系了辅警小周，小周回复我说要我跟村里书记去了解情况，这就是明显的相互推诿。村群里有人要求小周把那伙销售人员的联系方式和车牌发出来想通过网络把他们找出来退货，小周只是反复说那伙直销商经过村里同意和占坪屋主同意的他也没有办法。村里书记和辅警就这么眼睁睁看着村民的钱进了涉嫌违法商的口袋，试问这类村官可否还胜任啊？今天上午我打了派出所的袁所长的电话报警，袁所长回复我要我走程序找工商报案，我问我村辅警可否跟所里如实上报情况，袁所回复我说他没有理由回复我。这就是我了解的全部事实。目前家中买了的老人大多数还不敢做声，怕年轻人指责。试问这类书记，辅警可否称职？希望相关部门监管一下！'],\n",
       " 'input_ids': tensor([[ 101, 1762,  100,  ..., 4263, 2209,  102],\n",
       "         [ 101,  100, 2356,  ..., 2824, 6437,  102],\n",
       "         [ 101,  100, 1344,  ...,    0,    0,    0],\n",
       "         ...,\n",
       "         [ 101, 6435, 1147,  ..., 2339, 1066,  102],\n",
       "         [ 101,  100, 2356,  ..., 8013,  102,    0],\n",
       "         [ 101,  100, 1344,  ..., 2990,  678,  102]]),\n",
       " 'attention_mask': tensor([[1, 1, 1,  ..., 1, 1, 1],\n",
       "         [1, 1, 1,  ..., 1, 1, 1],\n",
       "         [1, 1, 1,  ..., 0, 0, 0],\n",
       "         ...,\n",
       "         [1, 1, 1,  ..., 1, 1, 1],\n",
       "         [1, 1, 1,  ..., 1, 1, 0],\n",
       "         [1, 1, 1,  ..., 1, 1, 1]]),\n",
       " 'labels': tensor([4, 3, 5, 0, 4, 4, 6, 2, 4, 0, 6, 3, 1, 5, 6, 0, 0, 4, 0, 1, 3, 6, 0, 5])}"
      ]
     },
     "execution_count": 39,
     "metadata": {},
     "output_type": "execute_result"
    }
   ],
   "source": [
    "data_input"
   ]
  },
  {
   "cell_type": "code",
   "execution_count": 40,
   "id": "0c5a1aa5-d100-43a2-bb74-b0210c77c652",
   "metadata": {},
   "outputs": [
    {
     "name": "stdout",
     "output_type": "stream",
     "text": [
      "torch.Size([24, 128])\n",
      "torch.Size([24, 128])\n"
     ]
    }
   ],
   "source": [
    "input_ids = data_input['input_ids'].to(device)\n",
    "attention_mask = data_input['attention_mask'].to(device)\n",
    "\n",
    "print(input_ids.shape) \n",
    "print(attention_mask.shape) "
   ]
  },
  {
   "cell_type": "code",
   "execution_count": 41,
   "id": "59ea3ea9-ad90-470e-80b7-0de8cf087879",
   "metadata": {},
   "outputs": [
    {
     "data": {
      "text/plain": [
       "tensor([[0.1603, 0.2347, 0.0809, 0.1176, 0.0812, 0.1890, 0.1363],\n",
       "        [0.2258, 0.1857, 0.0230, 0.2175, 0.1468, 0.0750, 0.1262],\n",
       "        [0.2129, 0.1472, 0.0950, 0.1246, 0.0495, 0.2416, 0.1293],\n",
       "        [0.2118, 0.1294, 0.1208, 0.0895, 0.0881, 0.2851, 0.0753],\n",
       "        [0.1092, 0.3769, 0.0520, 0.1300, 0.0521, 0.2046, 0.0751],\n",
       "        [0.1729, 0.1585, 0.0741, 0.1379, 0.0851, 0.2666, 0.1049],\n",
       "        [0.1171, 0.1741, 0.0750, 0.1382, 0.0710, 0.2630, 0.1615],\n",
       "        [0.2179, 0.1397, 0.1433, 0.2440, 0.0443, 0.1100, 0.1009],\n",
       "        [0.2308, 0.1461, 0.1143, 0.1324, 0.0787, 0.2487, 0.0490],\n",
       "        [0.1859, 0.2240, 0.1183, 0.0750, 0.0606, 0.2599, 0.0763],\n",
       "        [0.1494, 0.2444, 0.0743, 0.1374, 0.0957, 0.2136, 0.0853],\n",
       "        [0.1181, 0.3622, 0.0683, 0.0926, 0.0854, 0.1946, 0.0788],\n",
       "        [0.2226, 0.1018, 0.0872, 0.1708, 0.0704, 0.2549, 0.0923],\n",
       "        [0.1016, 0.1945, 0.0793, 0.1984, 0.0830, 0.2172, 0.1261],\n",
       "        [0.2584, 0.2256, 0.1380, 0.1271, 0.0493, 0.0990, 0.1026],\n",
       "        [0.1679, 0.1610, 0.0909, 0.1646, 0.1364, 0.1692, 0.1100],\n",
       "        [0.1787, 0.1523, 0.1021, 0.1786, 0.1028, 0.1949, 0.0906],\n",
       "        [0.1990, 0.1876, 0.0917, 0.1144, 0.0548, 0.2276, 0.1248],\n",
       "        [0.1514, 0.1240, 0.0744, 0.2037, 0.0985, 0.2307, 0.1174],\n",
       "        [0.2171, 0.1281, 0.0859, 0.1233, 0.2400, 0.1250, 0.0806],\n",
       "        [0.1610, 0.1881, 0.1185, 0.1447, 0.1017, 0.1495, 0.1364],\n",
       "        [0.1505, 0.3312, 0.0795, 0.1160, 0.0974, 0.1376, 0.0878],\n",
       "        [0.2205, 0.1306, 0.1103, 0.1311, 0.0442, 0.1747, 0.1886],\n",
       "        [0.1110, 0.1460, 0.0902, 0.2223, 0.1088, 0.2085, 0.1133]],\n",
       "       device='mps:0', grad_fn=<SoftmaxBackward0>)"
      ]
     },
     "execution_count": 41,
     "metadata": {},
     "output_type": "execute_result"
    }
   ],
   "source": [
    "F.softmax(model(input_ids, attention_mask), dim=1)"
   ]
  },
  {
   "cell_type": "markdown",
   "id": "6e1d9d6b-9b73-4903-b368-bb01a87243b5",
   "metadata": {},
   "source": [
    "### 模型训练"
   ]
  },
  {
   "cell_type": "code",
   "execution_count": 42,
   "id": "15e099fe-ba35-4a3d-b53d-a622859b9980",
   "metadata": {},
   "outputs": [
    {
     "data": {
      "text/plain": [
       "GovernmenttextsClassifier(\n",
       "  (bert): BertModel(\n",
       "    (embeddings): BertEmbeddings(\n",
       "      (word_embeddings): Embedding(21128, 768, padding_idx=0)\n",
       "      (position_embeddings): Embedding(512, 768)\n",
       "      (token_type_embeddings): Embedding(2, 768)\n",
       "      (LayerNorm): LayerNorm((768,), eps=1e-12, elementwise_affine=True)\n",
       "      (dropout): Dropout(p=0.1, inplace=False)\n",
       "    )\n",
       "    (encoder): BertEncoder(\n",
       "      (layer): ModuleList(\n",
       "        (0-11): 12 x BertLayer(\n",
       "          (attention): BertAttention(\n",
       "            (self): BertSelfAttention(\n",
       "              (query): Linear(in_features=768, out_features=768, bias=True)\n",
       "              (key): Linear(in_features=768, out_features=768, bias=True)\n",
       "              (value): Linear(in_features=768, out_features=768, bias=True)\n",
       "              (dropout): Dropout(p=0.1, inplace=False)\n",
       "            )\n",
       "            (output): BertSelfOutput(\n",
       "              (dense): Linear(in_features=768, out_features=768, bias=True)\n",
       "              (LayerNorm): LayerNorm((768,), eps=1e-12, elementwise_affine=True)\n",
       "              (dropout): Dropout(p=0.1, inplace=False)\n",
       "            )\n",
       "          )\n",
       "          (intermediate): BertIntermediate(\n",
       "            (dense): Linear(in_features=768, out_features=3072, bias=True)\n",
       "            (intermediate_act_fn): GELUActivation()\n",
       "          )\n",
       "          (output): BertOutput(\n",
       "            (dense): Linear(in_features=3072, out_features=768, bias=True)\n",
       "            (LayerNorm): LayerNorm((768,), eps=1e-12, elementwise_affine=True)\n",
       "            (dropout): Dropout(p=0.1, inplace=False)\n",
       "          )\n",
       "        )\n",
       "      )\n",
       "    )\n",
       "    (pooler): BertPooler(\n",
       "      (dense): Linear(in_features=768, out_features=768, bias=True)\n",
       "      (activation): Tanh()\n",
       "    )\n",
       "  )\n",
       "  (drop): Dropout(p=0.3, inplace=False)\n",
       "  (out): Linear(in_features=768, out_features=7, bias=True)\n",
       ")"
      ]
     },
     "execution_count": 42,
     "metadata": {},
     "output_type": "execute_result"
    }
   ],
   "source": [
    "model"
   ]
  },
  {
   "cell_type": "code",
   "execution_count": 43,
   "id": "c87b80ac-92d6-4cc7-a0c2-72eb52b03d1b",
   "metadata": {},
   "outputs": [],
   "source": [
    "EPOCHS = 10 # 训练轮数\n",
    "\n",
    "optimizer = AdamW(model.parameters(), lr=2e-5, correct_bias=False)\n",
    "total_steps = len(train_data_loader) * EPOCHS\n",
    "\n",
    "scheduler = get_linear_schedule_with_warmup(\n",
    "  optimizer,\n",
    "  num_warmup_steps=0, #没有热身步骤\n",
    "  num_training_steps=total_steps\n",
    ")\n",
    "\n",
    "loss_fn = nn.CrossEntropyLoss().to(device)"
   ]
  },
  {
   "cell_type": "code",
   "execution_count": 44,
   "id": "89b00fa0-f030-41e0-82d5-8765d4e421fd",
   "metadata": {},
   "outputs": [],
   "source": [
    "def train_epoch(\n",
    "  model, #训练的模型\n",
    "  data_loader, #数据加载器\n",
    "  loss_fn, #损失函数\n",
    "  optimizer, #优化器\n",
    "  device, #设备\n",
    "  scheduler, #学习率调度器\n",
    "  n_examples #样本数\n",
    "):\n",
    "    model = model.train()\n",
    "    \n",
    "    losses = [] #储存每个batch的损失\n",
    "    correct_predictions = 0 #记录正确预测的数量\n",
    "    for d in data_loader:\n",
    "        input_ids = d[\"input_ids\"].to(device)\n",
    "        attention_mask = d[\"attention_mask\"].to(device)\n",
    "        targets = d[\"labels\"].to(device)\n",
    "        \n",
    "        #梯度归零\n",
    "        model.zero_grad()\n",
    "        \n",
    "        #前向传播\n",
    "        outputs = model(\n",
    "            input_ids=input_ids,\n",
    "            attention_mask=attention_mask\n",
    "        )\n",
    "        _, preds = torch.max(outputs, dim=1)\n",
    "        loss = loss_fn(outputs, targets)\n",
    "        \n",
    "        # 计算正确预测数量和损失\n",
    "        correct_predictions += torch.sum(preds == targets)\n",
    "        losses.append(loss.item())\n",
    "        \n",
    "        #反向传播和优化\n",
    "        loss.backward()\n",
    "        \n",
    "        #梯度裁剪\n",
    "        nn.utils.clip_grad_norm_(model.parameters(), max_norm=1.0)\n",
    "        \n",
    "        #参数更新\n",
    "        optimizer.step()\n",
    "        scheduler.step()\n",
    "        optimizer.zero_grad()\n",
    "    #计算平均损失\n",
    "    mean_loss = torch.tensor(losses, dtype=torch.float32).mean().item()\n",
    "    accuracy = correct_predictions.to(dtype=torch.float32) / n_examples\n",
    "    return accuracy, mean_loss"
   ]
  },
  {
   "cell_type": "code",
   "execution_count": 45,
   "id": "b0bbe211-08fa-4485-a2e5-4fd10ce660a1",
   "metadata": {},
   "outputs": [],
   "source": [
    "def eval_model(model, data_loader, loss_fn, device, n_examples):\n",
    "    model = model.eval() # 验证预测模式\n",
    "\n",
    "    losses = []\n",
    "    correct_predictions = 0\n",
    "\n",
    "    with torch.no_grad():\n",
    "        for d in data_loader:\n",
    "            input_ids = d[\"input_ids\"].to(device)\n",
    "            attention_mask = d[\"attention_mask\"].to(device)\n",
    "            targets = d[\"labels\"].to(device)\n",
    "\n",
    "            outputs = model(\n",
    "                input_ids=input_ids,\n",
    "                attention_mask=attention_mask\n",
    "            )\n",
    "            _, preds = torch.max(outputs, dim=1)\n",
    "\n",
    "            loss = loss_fn(outputs, targets)\n",
    "\n",
    "            correct_predictions += torch.sum(preds == targets)\n",
    "            losses.append(loss.item())\n",
    "    mean_loss = torch.tensor(losses, dtype=torch.float32).mean().item()\n",
    "    accuracy = correct_predictions.to(dtype=torch.float32) / n_examples\n",
    "    return accuracy, mean_loss"
   ]
  },
  {
   "cell_type": "code",
   "execution_count": 46,
   "id": "1a1015b1-2615-4964-b486-a1493606b829",
   "metadata": {},
   "outputs": [
    {
     "name": "stdout",
     "output_type": "stream",
     "text": [
      "Epoch 1/10\n",
      "----------\n",
      "Train loss 0.5477223992347717 accuracy 0.8202382922172546\n",
      "Val   loss 0.2408953607082367 accuracy 0.9320651888847351\n",
      "\n",
      "Epoch 2/10\n",
      "----------\n",
      "Train loss 0.22171607613563538 accuracy 0.9362087249755859\n",
      "Val   loss 0.29869118332862854 accuracy 0.9320651888847351\n",
      "\n",
      "Epoch 3/10\n",
      "----------\n",
      "Train loss 0.11795967817306519 accuracy 0.9684813618659973\n",
      "Val   loss 0.33461183309555054 accuracy 0.9239130616188049\n",
      "\n",
      "Epoch 4/10\n",
      "----------\n",
      "Train loss 0.06106065586209297 accuracy 0.9853717684745789\n",
      "Val   loss 0.4449233412742615 accuracy 0.9103260636329651\n",
      "\n",
      "Epoch 5/10\n",
      "----------\n",
      "Train loss 0.03507678583264351 accuracy 0.9923088550567627\n",
      "Val   loss 0.35073503851890564 accuracy 0.9239130616188049\n",
      "\n",
      "Epoch 6/10\n",
      "----------\n",
      "Train loss 0.019565250724554062 accuracy 0.9956266283988953\n",
      "Val   loss 0.40275198221206665 accuracy 0.9320651888847351\n",
      "\n",
      "Epoch 7/10\n",
      "----------\n",
      "Train loss 0.013087824918329716 accuracy 0.9971346855163574\n",
      "Val   loss 0.36894071102142334 accuracy 0.9375\n",
      "\n",
      "Epoch 8/10\n",
      "----------\n",
      "Train loss 0.006985536776483059 accuracy 0.9986427426338196\n",
      "Val   loss 0.3820302486419678 accuracy 0.926630437374115\n",
      "\n",
      "Epoch 9/10\n",
      "----------\n",
      "Train loss 0.00571907265111804 accuracy 0.9990951418876648\n",
      "Val   loss 0.37100642919540405 accuracy 0.9347826242446899\n",
      "\n",
      "Epoch 10/10\n",
      "----------\n",
      "Train loss 0.00462272809818387 accuracy 0.9992459416389465\n",
      "Val   loss 0.3702542781829834 accuracy 0.9375\n",
      "\n"
     ]
    }
   ],
   "source": [
    "history = defaultdict(list) # 记录10轮loss和acc\n",
    "best_accuracy = 0\n",
    "\n",
    "for epoch in range(EPOCHS):\n",
    "\n",
    "    print(f'Epoch {epoch + 1}/{EPOCHS}')\n",
    "    print('-' * 10)\n",
    "\n",
    "    train_acc, train_loss = train_epoch(\n",
    "        model,\n",
    "        train_data_loader,\n",
    "        loss_fn,\n",
    "        optimizer,\n",
    "        device,\n",
    "        scheduler,\n",
    "        len(df_train)\n",
    "    )\n",
    "\n",
    "    print(f'Train loss {train_loss} accuracy {train_acc}')\n",
    "\n",
    "    val_acc, val_loss = eval_model(\n",
    "        model,\n",
    "        val_data_loader,\n",
    "        loss_fn,\n",
    "        device,\n",
    "        len(df_val)\n",
    "    )\n",
    "\n",
    "    print(f'Val   loss {val_loss} accuracy {val_acc}')\n",
    "    print()\n",
    "\n",
    "    history['train_acc'].append(train_acc)\n",
    "    history['train_loss'].append(train_loss)\n",
    "    history['val_acc'].append(val_acc)\n",
    "    history['val_loss'].append(val_loss)\n",
    "\n",
    "    if val_acc > best_accuracy:\n",
    "        torch.save(model.state_dict(), 'best_model_state.bin')\n",
    "        best_accuracy = val_acc\n"
   ]
  },
  {
   "cell_type": "markdown",
   "id": "3418ad36-0a80-432e-9877-143d2c72d20b",
   "metadata": {},
   "source": [
    "### 将张量移到cpu上"
   ]
  },
  {
   "cell_type": "code",
   "execution_count": 47,
   "id": "0e81bd4d-7aed-4ab0-8d6f-8bfe000d7897",
   "metadata": {},
   "outputs": [
    {
     "data": {
      "text/plain": [
       "defaultdict(list,\n",
       "            {'train_acc': [tensor(0.8202, device='mps:0'),\n",
       "              tensor(0.9362, device='mps:0'),\n",
       "              tensor(0.9685, device='mps:0'),\n",
       "              tensor(0.9854, device='mps:0'),\n",
       "              tensor(0.9923, device='mps:0'),\n",
       "              tensor(0.9956, device='mps:0'),\n",
       "              tensor(0.9971, device='mps:0'),\n",
       "              tensor(0.9986, device='mps:0'),\n",
       "              tensor(0.9991, device='mps:0'),\n",
       "              tensor(0.9992, device='mps:0')],\n",
       "             'train_loss': [0.5477223992347717,\n",
       "              0.22171607613563538,\n",
       "              0.11795967817306519,\n",
       "              0.06106065586209297,\n",
       "              0.03507678583264351,\n",
       "              0.019565250724554062,\n",
       "              0.013087824918329716,\n",
       "              0.006985536776483059,\n",
       "              0.00571907265111804,\n",
       "              0.00462272809818387],\n",
       "             'val_acc': [tensor(0.9321, device='mps:0'),\n",
       "              tensor(0.9321, device='mps:0'),\n",
       "              tensor(0.9239, device='mps:0'),\n",
       "              tensor(0.9103, device='mps:0'),\n",
       "              tensor(0.9239, device='mps:0'),\n",
       "              tensor(0.9321, device='mps:0'),\n",
       "              tensor(0.9375, device='mps:0'),\n",
       "              tensor(0.9266, device='mps:0'),\n",
       "              tensor(0.9348, device='mps:0'),\n",
       "              tensor(0.9375, device='mps:0')],\n",
       "             'val_loss': [0.2408953607082367,\n",
       "              0.29869118332862854,\n",
       "              0.33461183309555054,\n",
       "              0.4449233412742615,\n",
       "              0.35073503851890564,\n",
       "              0.40275198221206665,\n",
       "              0.36894071102142334,\n",
       "              0.3820302486419678,\n",
       "              0.37100642919540405,\n",
       "              0.3702542781829834]})"
      ]
     },
     "execution_count": 47,
     "metadata": {},
     "output_type": "execute_result"
    }
   ],
   "source": [
    "history"
   ]
  },
  {
   "cell_type": "code",
   "execution_count": 48,
   "id": "292fe743-882c-43dc-8b18-31a263301d95",
   "metadata": {},
   "outputs": [],
   "source": [
    "# 将数据从 MPS 设备上移动到 CPU 上\n",
    "train_acc_cpu = [tensor.cpu().numpy() for tensor in history['train_acc']]\n",
    "val_acc_cpu = [tensor.cpu().numpy() for tensor in history['val_acc']]"
   ]
  },
  {
   "cell_type": "code",
   "execution_count": 49,
   "id": "676fc157-fe3d-418c-a9c4-447c0b72bb43",
   "metadata": {},
   "outputs": [
    {
     "data": {
      "image/png": "[encoded data removed]",
      "text/plain": [
       "<Figure size 1200x800 with 1 Axes>"
      ]
     },
     "metadata": {},
     "output_type": "display_data"
    }
   ],
   "source": [
    "plt.plot(train_acc_cpu, label='train accuracy')\n",
    "plt.plot(val_acc_cpu, label='validation accuracy')\n",
    "\n",
    "plt.title('Training process')\n",
    "plt.ylabel('Accuracy')\n",
    "plt.xlabel('Epoch')\n",
    "plt.legend()\n",
    "plt.ylim([0, 1]);"
   ]
  },
  {
   "cell_type": "code",
   "execution_count": 50,
   "id": "c01f1121-7b34-4a43-bc6d-3b8900b260c3",
   "metadata": {},
   "outputs": [],
   "source": [
    "model = GovernmenttextsClassifier(len(class_names))\n",
    "model.load_state_dict(torch.load('best_model_state.bin'))\n",
    "model = model.to(device)"
   ]
  },
  {
   "cell_type": "markdown",
   "id": "8ece2e40-50ba-49c7-9df0-f1e4d4c6e75a",
   "metadata": {},
   "source": [
    "### 模型评估"
   ]
  },
  {
   "cell_type": "code",
   "execution_count": 51,
   "id": "005aa599-9859-43fd-bdc4-f12ededf075b",
   "metadata": {},
   "outputs": [
    {
     "data": {
      "text/plain": [
       "0.913279116153717"
      ]
     },
     "execution_count": 51,
     "metadata": {},
     "output_type": "execute_result"
    }
   ],
   "source": [
    "test_acc, _ = eval_model(\n",
    "  model,\n",
    "  test_data_loader,\n",
    "  loss_fn,\n",
    "  device,\n",
    "  len(df_test)\n",
    ")\n",
    "\n",
    "test_acc.item()"
   ]
  },
  {
   "cell_type": "code",
   "execution_count": 52,
   "id": "faa722d6-45b1-45c4-858f-91bb8cbe89af",
   "metadata": {},
   "outputs": [],
   "source": [
    "def get_predictions(model, data_loader):\n",
    "    model = model.eval()\n",
    "\n",
    "    texts = []\n",
    "    predictions = []\n",
    "    prediction_probs = []\n",
    "    real_values = []\n",
    "\n",
    "    with torch.no_grad():#预测时不需要更新梯度\n",
    "        for d in data_loader:\n",
    "            texts = d[\"texts\"]\n",
    "            input_ids = d[\"input_ids\"].to(device)\n",
    "            attention_mask = d[\"attention_mask\"].to(device)\n",
    "            targets = d[\"labels\"].to(device)\n",
    "\n",
    "            outputs = model(\n",
    "                input_ids=input_ids,\n",
    "                attention_mask=attention_mask\n",
    "            )\n",
    "            _, preds = torch.max(outputs, dim=1)\n",
    "\n",
    "            probs = F.softmax(outputs, dim=1)\n",
    "\n",
    "            texts.extend(texts)\n",
    "            predictions.extend(preds)\n",
    "            prediction_probs.extend(probs)\n",
    "            real_values.extend(targets)\n",
    "            \n",
    "    # 将所有的预测值、预测概率和真实值堆叠成张量，并将其转移到cpu上\n",
    "    predictions = torch.stack(predictions).cpu()\n",
    "    prediction_probs = torch.stack(prediction_probs).cpu()\n",
    "    real_values = torch.stack(real_values).cpu()\n",
    "    return texts, predictions, prediction_probs, real_values"
   ]
  },
  {
   "cell_type": "code",
   "execution_count": 53,
   "id": "5469d796-773d-48c0-9d14-e6a0950860fb",
   "metadata": {},
   "outputs": [],
   "source": [
    "# y_texts: 真实文本   \n",
    "# y_pred: 预测类别\n",
    "# y_pred_probs: 预测概率\n",
    "# y_test: 真实标签\n",
    "y_texts, y_pred, y_pred_probs, y_test = get_predictions(\n",
    "  model,\n",
    "  test_data_loader\n",
    ")"
   ]
  },
  {
   "cell_type": "code",
   "execution_count": 54,
   "id": "9dada5fb-8547-43d2-afc7-db26edc30507",
   "metadata": {},
   "outputs": [
    {
     "name": "stdout",
     "output_type": "stream",
     "text": [
      "              precision    recall  f1-score   support\n",
      "\n",
      "           0       0.90      0.90      0.90        78\n",
      "           1       0.92      0.96      0.94        25\n",
      "           2       0.83      0.95      0.89        21\n",
      "           3       0.94      0.88      0.91        73\n",
      "           4       0.90      0.99      0.94        77\n",
      "           5       0.92      0.84      0.88        58\n",
      "           6       0.94      0.92      0.93        37\n",
      "\n",
      "    accuracy                           0.91       369\n",
      "   macro avg       0.91      0.92      0.91       369\n",
      "weighted avg       0.91      0.91      0.91       369\n",
      "\n"
     ]
    }
   ],
   "source": [
    "#使用classification_report()生成分类报告\n",
    "report = classification_report(y_test, y_pred, target_names=[str(label) for label in class_names], output_dict=True)\n",
    "print(classification_report(y_test, y_pred, target_names=[str(label) for label in class_names]))"
   ]
  },
  {
   "cell_type": "markdown",
   "id": "dde184c2-65ad-4b57-813b-3504c5a3c239",
   "metadata": {},
   "source": [
    "### 各类别各评估指标可视化"
   ]
  },
  {
   "cell_type": "code",
   "execution_count": 56,
   "id": "27cb326e-5908-4be6-9589-1e2e57cba5ff",
   "metadata": {},
   "outputs": [],
   "source": [
    "# 针对'一级标签'映射的反映射\n",
    "reverse_mapping_dict = {index: value for value, index in mapping_dict.items()}"
   ]
  },
  {
   "cell_type": "code",
   "execution_count": 57,
   "id": "2ce98650-ff64-4a32-a086-036f45ef4a56",
   "metadata": {},
   "outputs": [
    {
     "data": {
      "image/png": "[encoded data removed]",
      "text/plain": [
       "<Figure size 1000x600 with 1 Axes>"
      ]
     },
     "metadata": {},
     "output_type": "display_data"
    }
   ],
   "source": [
    "# 从报告中提取f1-score\n",
    "f1_scores = {str(label): report[str(label)]['f1-score'] for label in class_names}\n",
    "x_labels = []\n",
    "for i in list(f1_scores.keys()):\n",
    "    x_labels.append(reverse_mapping_dict[int(i)])\n",
    "# 可视化f1-score\n",
    "plt.figure(figsize=(10, 6))\n",
    "plt.rcParams['font.sans-serif'] = ['SimHei']  # 指定默认字体为中文宋体\n",
    "plt.rcParams['axes.unicode_minus'] = False\n",
    "sns.barplot(x=x_labels, y=list(f1_scores.values()), palette=\"viridis\")\n",
    "plt.title('F1-Score for Each Class')\n",
    "plt.xlabel('Class')\n",
    "plt.ylabel('F1-Score')\n",
    "plt.show()"
   ]
  },
  {
   "cell_type": "code",
   "execution_count": 58,
   "id": "bd7fcc38-45f7-490e-877a-673a788625f0",
   "metadata": {},
   "outputs": [
    {
     "data": {
      "image/png": "[encoded data removed]",
      "text/plain": [
       "<Figure size 1000x600 with 1 Axes>"
      ]
     },
     "metadata": {},
     "output_type": "display_data"
    }
   ],
   "source": [
    "# 从报告中提取precision\n",
    "precisions = {str(label): report[str(label)]['precision'] for label in class_names}\n",
    "x_labels = []\n",
    "for i in list(precisions.keys()):\n",
    "    x_labels.append(reverse_mapping_dict[int(i)])\n",
    "# 可视化precision\n",
    "plt.figure(figsize=(10, 6))\n",
    "plt.rcParams['font.sans-serif'] = ['SimHei']  # 指定默认字体为中文宋体\n",
    "plt.rcParams['axes.unicode_minus'] = False\n",
    "sns.barplot(x=x_labels, y=list(precisions.values()), palette=\"viridis\")\n",
    "plt.title('precision for Each Class')\n",
    "plt.xlabel('Class')\n",
    "plt.ylabel('precision')\n",
    "plt.show()"
   ]
  },
  {
   "cell_type": "code",
   "execution_count": 59,
   "id": "8adbbb64-2de6-46b7-acf1-e40f0b64f8a9",
   "metadata": {},
   "outputs": [
    {
     "data": {
      "image/png": "[encoded data removed]",
      "text/plain": [
       "<Figure size 1000x600 with 1 Axes>"
      ]
     },
     "metadata": {},
     "output_type": "display_data"
    }
   ],
   "source": [
    "# 从报告中提取recall\n",
    "recalls = {str(label): report[str(label)]['recall'] for label in class_names}\n",
    "x_labels = []\n",
    "for i in list(recalls.keys()):\n",
    "    x_labels.append(reverse_mapping_dict[int(i)])\n",
    "# 可视化f1-score\n",
    "plt.figure(figsize=(10, 6))\n",
    "plt.rcParams['font.sans-serif'] = ['SimHei']  # 指定默认字体为中文宋体\n",
    "plt.rcParams['axes.unicode_minus'] = False\n",
    "sns.barplot(x=x_labels, y=list(recalls.values()), palette=\"viridis\")\n",
    "plt.title('recall for Each Class')\n",
    "plt.xlabel('Class')\n",
    "plt.ylabel('recall')\n",
    "plt.show()"
   ]
  },
  {
   "cell_type": "markdown",
   "id": "671b9bc5-157a-4f6f-9366-c3365f358b12",
   "metadata": {},
   "source": [
    "### 绘制混淆矩阵"
   ]
  },
  {
   "cell_type": "code",
   "execution_count": 60,
   "id": "caa1061e-2777-4d39-9a78-f6a06fc82a98",
   "metadata": {},
   "outputs": [
    {
     "data": {
      "image/png": "[encoded data removed]",
      "text/plain": [
       "<Figure size 1200x800 with 2 Axes>"
      ]
     },
     "metadata": {},
     "output_type": "display_data"
    }
   ],
   "source": [
    "def show_confusion_matrix(confusion_matrix):\n",
    "    hmap = sns.heatmap(confusion_matrix, annot=True, fmt=\"d\", cmap=\"Blues\")\n",
    "    hmap.yaxis.set_ticklabels(hmap.yaxis.get_ticklabels(), rotation=0, ha='right')\n",
    "    hmap.xaxis.set_ticklabels(hmap.xaxis.get_ticklabels(), rotation=30, ha='right')\n",
    "    plt.ylabel('True label')\n",
    "    plt.xlabel('Predicted label');\n",
    "\n",
    "\n",
    "cm = confusion_matrix(y_test, y_pred)\n",
    "df_cm = pd.DataFrame(cm, index=class_names, columns=class_names)\n",
    "show_confusion_matrix(df_cm)"
   ]
  },
  {
   "cell_type": "code",
   "execution_count": 61,
   "id": "d4e83377-e548-4da7-a33d-caf5de5f9f53",
   "metadata": {},
   "outputs": [],
   "source": [
    "# 针对'一级标签'映射的反映射\n",
    "reverse_mapping_dict = {index: value for value, index in mapping_dict.items()}"
   ]
  },
  {
   "cell_type": "code",
   "execution_count": 62,
   "id": "722ab262-65f7-4f53-99f8-caceae2508a0",
   "metadata": {},
   "outputs": [
    {
     "name": "stdout",
     "output_type": "stream",
     "text": [
      "西地省工人技术等级何时开考？ 胡厅长：您好！我是J市林业基层工作人员，木材检验技术工人，去年工龄20年，去年本应该参加考试由中级工升为高级工\n",
      "，不知道什么原因省厅没有开考，今年又是快10月份了，还没有消息。基层人员本来工资就低，升级还是能提高部分工资，并且能及时再考试升技师。如2年\n",
      "不开考，那我们就一辈子耽误2年，请厅长您关心下此事，争取今年开考，关心我们基层人员，不胜感激您！\n",
      "预测的一级标签: 教育文体\n",
      "真实的一级标签: 教育文体\n"
     ]
    }
   ],
   "source": [
    "idx = 2\n",
    "sample_text = y_texts[idx]\n",
    "pred_label = y_pred[idx]\n",
    "true_label = y_test[idx]\n",
    "#每个类别的概率\n",
    "pred_df = pd.DataFrame({\n",
    "  'class_names': class_names,\n",
    "  'values': y_pred_probs[idx]\n",
    "})\n",
    "print(\"\\n\".join(wrap(sample_text)))\n",
    "print(f'预测的一级标签: {reverse_mapping_dict[class_names[pred_label]]}')\n",
    "print(f'真实的一级标签: {reverse_mapping_dict[class_names[true_label]]}')"
   ]
  },
  {
   "cell_type": "code",
   "execution_count": 63,
   "id": "f9f52773-0770-4ba4-9aff-1640b80c4f18",
   "metadata": {},
   "outputs": [
    {
     "data": {
      "image/png": "[encoded data removed]",
      "text/plain": [
       "<Figure size 1200x800 with 1 Axes>"
      ]
     },
     "metadata": {},
     "output_type": "display_data"
    }
   ],
   "source": [
    "sns.barplot(x='values', y='class_names', data=pred_df, orient='h')\n",
    "plt.ylabel('sentiment')\n",
    "plt.xlabel('probability')\n",
    "plt.xlim([0, 1]);"
   ]
  },
  {
   "cell_type": "markdown",
   "id": "a455e827-dc9c-4c42-bee1-f4f8cbc4a1d0",
   "metadata": {},
   "source": [
    "### 新输入测试"
   ]
  },
  {
   "cell_type": "code",
   "execution_count": 64,
   "id": "06b34754-1a46-4e3c-b105-917cacf7f485",
   "metadata": {},
   "outputs": [
    {
     "name": "stdout",
     "output_type": "stream",
     "text": [
      "留言内容: 读书真累\n",
      "一级标签: 教育文体\n"
     ]
    }
   ],
   "source": [
    "new_text = \"读书真累\"\n",
    "\n",
    "encoded_text = tokenizer.encode_plus(\n",
    "  new_text,\n",
    "  max_length=MAX_LEN,\n",
    "  add_special_tokens=True,\n",
    "  return_token_type_ids=False,\n",
    "  pad_to_max_length=True,\n",
    "  return_attention_mask=True,\n",
    "  return_tensors='pt',\n",
    ")\n",
    "\n",
    "input_ids = encoded_text['input_ids'].to(device)\n",
    "attention_mask = encoded_text['attention_mask'].to(device)\n",
    "\n",
    "output = model(input_ids, attention_mask)\n",
    "_, prediction = torch.max(output, dim=1)\n",
    "\n",
    "print(f'留言内容: {new_text}')\n",
    "print(f'一级标签: {reverse_mapping_dict[class_names[prediction]]}')"
   ]
  },
  {
   "cell_type": "code",
   "execution_count": null,
   "id": "19e1a639-3aca-4ba0-b265-232e684bb27c",
   "metadata": {},
   "outputs": [],
   "source": []
  }
 ],
 "metadata": {
  "kernelspec": {
   "display_name": "pytorch",
   "language": "python",
   "name": "pytorch"
  },
  "language_info": {
   "codemirror_mode": {
    "name": "ipython",
    "version": 3
   },
   "file_extension": ".py",
   "mimetype": "text/x-python",
   "name": "python",
   "nbconvert_exporter": "python",
   "pygments_lexer": "ipython3",
   "version": "3.11.6"
  }
 },
 "nbformat": 4,
 "nbformat_minor": 5
}
